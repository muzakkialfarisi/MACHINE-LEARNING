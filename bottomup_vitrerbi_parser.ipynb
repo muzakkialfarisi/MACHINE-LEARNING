{
  "nbformat": 4,
  "nbformat_minor": 0,
  "metadata": {
    "colab": {
      "name": "bottomup - vitrerbi parser.ipynb",
      "provenance": [],
      "collapsed_sections": [],
      "authorship_tag": "ABX9TyMWOHO3o3nd7bGEMWeGR5gY",
      "include_colab_link": true
    },
    "kernelspec": {
      "name": "python3",
      "display_name": "Python 3"
    }
  },
  "cells": [
    {
      "cell_type": "markdown",
      "metadata": {
        "id": "view-in-github",
        "colab_type": "text"
      },
      "source": [
        "<a href=\"https://colab.research.google.com/github/muzakkialfarisi/MACHINE-LEARNING/blob/master/bottomup_vitrerbi_parser.ipynb\" target=\"_parent\"><img src=\"https://colab.research.google.com/assets/colab-badge.svg\" alt=\"Open In Colab\"/></a>"
      ]
    },
    {
      "cell_type": "code",
      "metadata": {
        "id": "jGqYVpwzFrRg",
        "colab": {
          "base_uri": "https://localhost:8080/",
          "height": 34
        },
        "outputId": "ea470b94-fb05-441d-b6ec-659fe7e30e2e"
      },
      "source": [
        "import nltk\n",
        "from nltk.parse.generate import generate\n",
        "from nltk.parse import ViterbiParser\n",
        "from nltk import Nonterminal, nonterminals, Production, PCFG, induce_pcfg\n",
        "from google.colab import drive\n",
        "drive.mount('/content/drive')\n",
        "from nltk.corpus import BracketParseCorpusReader\n",
        "from nltk.parse import ViterbiParser"
      ],
      "execution_count": null,
      "outputs": [
        {
          "output_type": "stream",
          "text": [
            "Drive already mounted at /content/drive; to attempt to forcibly remount, call drive.mount(\"/content/drive\", force_remount=True).\n"
          ],
          "name": "stdout"
        }
      ]
    },
    {
      "cell_type": "markdown",
      "metadata": {
        "id": "wR-fQHECEkqH"
      },
      "source": [
        "**BAGIAN I**"
      ]
    },
    {
      "cell_type": "code",
      "metadata": {
        "id": "0YC4ov_7HjAm"
      },
      "source": [
        "# pendefinisian CFG\n",
        "grammar_1 = nltk.CFG.fromstring(\"\"\"\n",
        "  S -> NP VP\n",
        "  VP -> V NP | V C\n",
        "  C -> NP PP\n",
        "  PP -> P NP\n",
        "  D -> N PP\n",
        "  V -> \"melihat\" | \"mengupas\"\n",
        "  NP -> \"Faris\" | \"Danoe\" | \"Adhan\" | Det N | Det D\n",
        "  Det -> \"seorang\" | \"seekor\" | \"sebuah\"\n",
        "  N -> \"kucing\" | \"teleskop\" | \"apel\" | \"pisau\" | \"wanita\"\n",
        "  P -> \"menggunakan\" | \"dengan\"\n",
        "  \"\"\")"
      ],
      "execution_count": null,
      "outputs": []
    },
    {
      "cell_type": "code",
      "metadata": {
        "id": "kXYz3hFXKGYB"
      },
      "source": [
        "# pendefinisian kalimat\n",
        "sent1_1 = 'Faris melihat seorang wanita dengan sebuah teleskop'.split() # kalimat 1\n",
        "sent1_2 = 'Danoe mengupas sebuah apel menggunakan sebuah pisau'.split() # kalimat 2\n",
        "sent1_3 = 'Adhan melihat seekor kucing'.split() # kalimat 3"
      ],
      "execution_count": null,
      "outputs": []
    },
    {
      "cell_type": "code",
      "metadata": {
        "id": "RFnSNWf6NCSd",
        "colab": {
          "base_uri": "https://localhost:8080/",
          "height": 255
        },
        "outputId": "6bbcec58-b70b-4bce-ce10-801f4bc935b0"
      },
      "source": [
        "# parsing dengan parser bottom up\n",
        "bu1_parser1 = nltk.parse.BottomUpChartParser(grammar_1) # parsing kalimat 1\n",
        "for tree in bu1_parser1.parse(sent1_1):\n",
        "  print(tree)"
      ],
      "execution_count": null,
      "outputs": [
        {
          "output_type": "stream",
          "text": [
            "(S\n",
            "  (NP Faris)\n",
            "  (VP\n",
            "    (V melihat)\n",
            "    (C\n",
            "      (NP (Det seorang) (N wanita))\n",
            "      (PP (P dengan) (NP (Det sebuah) (N teleskop))))))\n",
            "(S\n",
            "  (NP Faris)\n",
            "  (VP\n",
            "    (V melihat)\n",
            "    (NP\n",
            "      (Det seorang)\n",
            "      (D (N wanita) (PP (P dengan) (NP (Det sebuah) (N teleskop)))))))\n"
          ],
          "name": "stdout"
        }
      ]
    },
    {
      "cell_type": "code",
      "metadata": {
        "id": "esXSdkHkNHAs",
        "colab": {
          "base_uri": "https://localhost:8080/",
          "height": 255
        },
        "outputId": "f8a7a63f-cd0f-46e3-a3d8-13203daa294b"
      },
      "source": [
        "# parsing dengan parser bottom up\n",
        "bu1_parser2 = nltk.parse.BottomUpChartParser(grammar_1) # parsing kalimat 2\n",
        "for tree in bu1_parser2.parse(sent1_2):\n",
        "  print(tree)"
      ],
      "execution_count": null,
      "outputs": [
        {
          "output_type": "stream",
          "text": [
            "(S\n",
            "  (NP Danoe)\n",
            "  (VP\n",
            "    (V mengupas)\n",
            "    (C\n",
            "      (NP (Det sebuah) (N apel))\n",
            "      (PP (P menggunakan) (NP (Det sebuah) (N pisau))))))\n",
            "(S\n",
            "  (NP Danoe)\n",
            "  (VP\n",
            "    (V mengupas)\n",
            "    (NP\n",
            "      (Det sebuah)\n",
            "      (D (N apel) (PP (P menggunakan) (NP (Det sebuah) (N pisau)))))))\n"
          ],
          "name": "stdout"
        }
      ]
    },
    {
      "cell_type": "code",
      "metadata": {
        "id": "AYpg3sFGNIGD",
        "colab": {
          "base_uri": "https://localhost:8080/",
          "height": 34
        },
        "outputId": "75260db5-f903-4d09-edf8-b5f771436103"
      },
      "source": [
        "# parsing dengan parser bottom up\n",
        "bu1_parser3 = nltk.parse.BottomUpChartParser(grammar_1) # parsing kalimat 3\n",
        "for tree in bu1_parser3.parse(sent1_3):\n",
        "  print(tree)"
      ],
      "execution_count": null,
      "outputs": [
        {
          "output_type": "stream",
          "text": [
            "(S (NP Adhan) (VP (V melihat) (NP (Det seekor) (N kucing))))\n"
          ],
          "name": "stdout"
        }
      ]
    },
    {
      "cell_type": "code",
      "metadata": {
        "id": "XdZLSPI1Nao7",
        "colab": {
          "base_uri": "https://localhost:8080/",
          "height": 34
        },
        "outputId": "5dfa0c11-b5ea-43a2-ffaf-df5e38fe2f95"
      },
      "source": [
        "# cek apakah grammar_1 is CNF?\n",
        "print(grammar_1.is_chomsky_normal_form())"
      ],
      "execution_count": null,
      "outputs": [
        {
          "output_type": "stream",
          "text": [
            "True\n"
          ],
          "name": "stdout"
        }
      ]
    },
    {
      "cell_type": "markdown",
      "metadata": {
        "id": "BMQsfRrEEppS"
      },
      "source": [
        "**BAGIAN II**"
      ]
    },
    {
      "cell_type": "code",
      "metadata": {
        "id": "Cppi98ylFCYs",
        "colab": {
          "base_uri": "https://localhost:8080/",
          "height": 88
        },
        "outputId": "59837754-84d2-4ced-e8bb-61ce4c0b54a9"
      },
      "source": [
        "# penyesuaian path lokasi file .mrg\n",
        "ptb = BracketParseCorpusReader(\"/content/drive/My Drive/Colab Notebooks\", r\".*/*\\.mrg\")\n",
        "\n",
        "print(ptb)\n",
        "print(ptb.sents())\n",
        "print(ptb.parsed_sents())"
      ],
      "execution_count": null,
      "outputs": [
        {
          "output_type": "stream",
          "text": [
            "<BracketParseCorpusReader in '/content/drive/My Drive/Colab Notebooks'>\n",
            "[['Kera', 'untuk', '*', 'amankan', 'pesta', 'olahraga'], ['Pemerintah', 'kota', 'Delhi', 'mengerahkan', 'monyet', 'untuk', '*', 'mengusir', 'monyet-monyet', 'lain', 'yang', '*', 'berbadan', 'lebih', 'kecil', 'dari', 'arena', 'Pesta', 'Olahraga', 'Persemakmuran', '.'], ...]\n",
            "[Tree('NP', [Tree('NN', ['Kera']), Tree('SBAR', [Tree('IN', ['untuk']), Tree('S', [Tree('NP-SBJ', [Tree('-NONE-', ['*'])]), Tree('VP', [Tree('VB', ['amankan']), Tree('NP', [Tree('NP', [Tree('NN', ['pesta']), Tree('NN', ['olahraga'])])])])])])]), Tree('S', [Tree('NP-SBJ', [Tree('NN', ['Pemerintah']), Tree('NN', ['kota']), Tree('NNP', ['Delhi'])]), Tree('VP', [Tree('VB', ['mengerahkan']), Tree('NP', [Tree('NN', ['monyet'])]), Tree('SBAR', [Tree('IN', ['untuk']), Tree('S', [Tree('NP-SBJ', [Tree('-NONE-', ['*'])]), Tree('VP', [Tree('VB', ['mengusir']), Tree('NP', [Tree('NP', [Tree('NN', ['monyet-monyet']), Tree('JJ', ['lain'])]), Tree('SBAR', [Tree('IN', ['yang']), Tree('S', [Tree('NP-SBJ', [Tree('-NONE-', ['*'])]), Tree('VP', [Tree('VB', ['berbadan']), Tree('ADJP', [Tree('RB', ['lebih']), Tree('JJ', ['kecil'])])])])])]), Tree('PP', [Tree('IN', ['dari']), Tree('NP', [Tree('NN', ['arena']), Tree('NP', [Tree('NP', [Tree('NNP', ['Pesta']), Tree('NNP', ['Olahraga'])]), Tree('NNP', ['Persemakmuran'])])])])])])])]), Tree('.', ['.'])]), ...]\n"
          ],
          "name": "stdout"
        }
      ]
    },
    {
      "cell_type": "code",
      "metadata": {
        "id": "pJMJKbGPFVH-"
      },
      "source": [
        "S = Nonterminal('S')\n",
        "\n",
        "productions = []\n",
        "for t in ptb.parsed_sents():\n",
        "    productions += t.productions()\n",
        "grammar_2 = induce_pcfg(S, productions)"
      ],
      "execution_count": null,
      "outputs": []
    },
    {
      "cell_type": "code",
      "metadata": {
        "id": "dVFWzLoJFdkl"
      },
      "source": [
        "# pendefinisian kalimat ke-1 (kalimat diambil dari daftar kalimat yang ada di constituency Treebank Bahasa Indonesia)\n",
        "sent2_1 = 'ribuan monyet amankan pesta'.split()"
      ],
      "execution_count": null,
      "outputs": []
    },
    {
      "cell_type": "code",
      "metadata": {
        "id": "5dgaBrB2RJ2Y",
        "colab": {
          "base_uri": "https://localhost:8080/",
          "height": 221
        },
        "outputId": "184c21db-61a1-4854-a707-8c33aa858bef"
      },
      "source": [
        "# contoh menggunakan bottom-up parser\n",
        "bu2_parser1 = nltk.parse.BottomUpChartParser(grammar_2)\n",
        "for tree in bu2_parser1.parse(sent2_1):\n",
        "  print(tree)"
      ],
      "execution_count": null,
      "outputs": [
        {
          "output_type": "stream",
          "text": [
            "(S\n",
            "  (NP-SBJ (NP (CD ribuan) (NN monyet)))\n",
            "  (VP (VB amankan) (NP (NN pesta))))\n",
            "(S\n",
            "  (NP-SBJ (NP (CD ribuan) (NN monyet)))\n",
            "  (VP (VB amankan) (NP (NP (NN pesta)))))\n",
            "(S\n",
            "  (NP-SBJ (NP (NP (CD ribuan) (NN monyet))))\n",
            "  (VP (VB amankan) (NP (NN pesta))))\n",
            "(S\n",
            "  (NP-SBJ (NP (NP (CD ribuan) (NN monyet))))\n",
            "  (VP (VB amankan) (NP (NP (NN pesta)))))\n"
          ],
          "name": "stdout"
        }
      ]
    },
    {
      "cell_type": "code",
      "metadata": {
        "id": "o9HEzXAsFxQs",
        "colab": {
          "base_uri": "https://localhost:8080/",
          "height": 731
        },
        "outputId": "c2b53668-6750-453b-be65-8670fb0ce186"
      },
      "source": [
        "# Tes parsing dengan Viterbi Parser, yang akan mengembalikan 1 pohon parse dengan probability total paling tinggi\n",
        "# contoh menggunakan bottom-up parser\n",
        "parser = ViterbiParser(grammar_2, trace=2)\n",
        "for t in parser.parse(sent2_1):\n",
        "  t.pretty_print()"
      ],
      "execution_count": null,
      "outputs": [
        {
          "output_type": "stream",
          "text": [
            "Inserting tokens into the most likely constituents table...\n",
            "   Insert: |=...| ribuan\n",
            "   Insert: |.=..| monyet\n",
            "   Insert: |..=.| amankan\n",
            "   Insert: |...=| pesta\n",
            "Finding the most likely constituents spanning 1 text elements...\n",
            "   Insert: |=...| CD -> 'ribuan' [0.25]\n",
            "   Insert: |=...| NP -> CD [0.04]\n",
            "  Discard: |=...| NP -> NP [0.04]\n",
            "   Insert: |=...| NP-SBJ -> NP [0.111111]\n",
            "  Discard: |=...| NP -> NP [0.04]\n",
            "   Insert: |.=..| NN -> 'monyet' [0.185185]\n",
            "   Insert: |.=..| NP -> NN [0.04]\n",
            "  Discard: |.=..| NP -> NP [0.04]\n",
            "   Insert: |.=..| NP-SBJ -> NP [0.111111]\n",
            "  Discard: |.=..| NP -> NP [0.04]\n",
            "   Insert: |..=.| VB -> 'amankan' [0.0769231]\n",
            "   Insert: |...=| NN -> 'pesta' [0.037037]\n",
            "   Insert: |...=| NP -> NN [0.04]\n",
            "  Discard: |...=| NP -> NP [0.04]\n",
            "   Insert: |...=| NP-SBJ -> NP [0.111111]\n",
            "  Discard: |...=| NP -> NP [0.04]\n",
            "Finding the most likely constituents spanning 2 text elements...\n",
            "   Insert: |==..| NP -> CD NN [0.04]\n",
            "  Discard: |==..| NP -> NP [0.04]\n",
            "   Insert: |==..| NP-SBJ -> NP [0.111111]\n",
            "  Discard: |==..| NP -> NP [0.04]\n",
            "   Insert: |..==| VP -> VB NP [0.285714]\n",
            "Finding the most likely constituents spanning 3 text elements...\n",
            "   Insert: |.===| S -> NP-SBJ VP [0.538462]\n",
            "Finding the most likely constituents spanning 4 text elements...\n",
            "   Insert: |====| S -> NP-SBJ VP [0.538462]\n",
            "                      S                   \n",
            "          ____________|___________         \n",
            "       NP-SBJ                     VP      \n",
            "         |                   _____|____    \n",
            "         NP                 |          NP \n",
            "   ______|______            |          |   \n",
            "  CD            NN          VB         NN \n",
            "  |             |           |          |   \n",
            "ribuan        monyet     amankan     pesta\n",
            "\n"
          ],
          "name": "stdout"
        }
      ]
    },
    {
      "cell_type": "code",
      "metadata": {
        "id": "KqHfEdL4_Ijv",
        "colab": {
          "base_uri": "https://localhost:8080/",
          "height": 34
        },
        "outputId": "80abb4bd-5190-473f-fb66-9d7b0322f3a6"
      },
      "source": [
        "sent2_2 = 'Adhan melihat seekor kucing'.split() # kalimat selain dari file\n",
        "bu2_parser2 = nltk.parse.BottomUpChartParser(grammar_1) # parsing kalimat 3\n",
        "for tree in bu2_parser2.parse(sent2_2):\n",
        "  print(tree)"
      ],
      "execution_count": null,
      "outputs": [
        {
          "output_type": "stream",
          "text": [
            "(S (NP Adhan) (VP (V melihat) (NP (Det seekor) (N kucing))))\n"
          ],
          "name": "stdout"
        }
      ]
    },
    {
      "cell_type": "code",
      "metadata": {
        "id": "syYhk_jdDfde"
      },
      "source": [
        "with open(\"/content/drive/My Drive/Colab Notebooks/kethu_example.mrg\", \"r\") as f, open(\"/content/drive/My Drive/Colab Notebooks/NLP/fix.mrg\", \"w\") as fh:\n",
        "    for line in f:\n",
        "        fh.write(line)\n",
        "    for tree in bu2_parser2.parse(sent2_2):\n",
        "        fh.write(\"\\n\"+str(tree))"
      ],
      "execution_count": null,
      "outputs": []
    },
    {
      "cell_type": "code",
      "metadata": {
        "id": "13jP5YdoGoGy",
        "colab": {
          "base_uri": "https://localhost:8080/",
          "height": 88
        },
        "outputId": "c41de17c-f814-40fd-fab6-bb5d370cb65b"
      },
      "source": [
        "ptb2 = BracketParseCorpusReader(r\"/content/drive/My Drive/Colab Notebooks/NLP\", r\".*/*\\.mrg\")\n",
        "print(ptb2)\n",
        "print(ptb2.sents())\n",
        "print(ptb2.parsed_sents())"
      ],
      "execution_count": null,
      "outputs": [
        {
          "output_type": "stream",
          "text": [
            "<BracketParseCorpusReader in '/content/drive/My Drive/Colab Notebooks/NLP'>\n",
            "[['Kera', 'untuk', '*', 'amankan', 'pesta', 'olahraga'], ['Pemerintah', 'kota', 'Delhi', 'mengerahkan', 'monyet', 'untuk', '*', 'mengusir', 'monyet-monyet', 'lain', 'yang', '*', 'berbadan', 'lebih', 'kecil', 'dari', 'arena', 'Pesta', 'Olahraga', 'Persemakmuran', '.'], ...]\n",
            "[Tree('NP', [Tree('NN', ['Kera']), Tree('SBAR', [Tree('IN', ['untuk']), Tree('S', [Tree('NP-SBJ', [Tree('-NONE-', ['*'])]), Tree('VP', [Tree('VB', ['amankan']), Tree('NP', [Tree('NP', [Tree('NN', ['pesta']), Tree('NN', ['olahraga'])])])])])])]), Tree('S', [Tree('NP-SBJ', [Tree('NN', ['Pemerintah']), Tree('NN', ['kota']), Tree('NNP', ['Delhi'])]), Tree('VP', [Tree('VB', ['mengerahkan']), Tree('NP', [Tree('NN', ['monyet'])]), Tree('SBAR', [Tree('IN', ['untuk']), Tree('S', [Tree('NP-SBJ', [Tree('-NONE-', ['*'])]), Tree('VP', [Tree('VB', ['mengusir']), Tree('NP', [Tree('NP', [Tree('NN', ['monyet-monyet']), Tree('JJ', ['lain'])]), Tree('SBAR', [Tree('IN', ['yang']), Tree('S', [Tree('NP-SBJ', [Tree('-NONE-', ['*'])]), Tree('VP', [Tree('VB', ['berbadan']), Tree('ADJP', [Tree('RB', ['lebih']), Tree('JJ', ['kecil'])])])])])]), Tree('PP', [Tree('IN', ['dari']), Tree('NP', [Tree('NN', ['arena']), Tree('NP', [Tree('NP', [Tree('NNP', ['Pesta']), Tree('NNP', ['Olahraga'])]), Tree('NNP', ['Persemakmuran'])])])])])])])]), Tree('.', ['.'])]), ...]\n"
          ],
          "name": "stdout"
        }
      ]
    },
    {
      "cell_type": "code",
      "metadata": {
        "id": "_Q__z7sAHjHL"
      },
      "source": [
        "S = Nonterminal('S')\n",
        "\n",
        "productions = []\n",
        "for t in ptb2.parsed_sents():\n",
        "    productions += t.productions()\n",
        "grammar_3 = induce_pcfg(S, productions)"
      ],
      "execution_count": null,
      "outputs": []
    },
    {
      "cell_type": "code",
      "metadata": {
        "id": "lSwGAOPPHy-i",
        "colab": {
          "base_uri": "https://localhost:8080/",
          "height": 289
        },
        "outputId": "aa0c8329-d79d-4e25-a4ca-ebb7b97c68b8"
      },
      "source": [
        "bu2_parser3 = nltk.parse.BottomUpChartParser(grammar_3)\n",
        "for tree in bu2_parser3.parse(sent2_2):\n",
        "  print(tree)"
      ],
      "execution_count": null,
      "outputs": [
        {
          "output_type": "stream",
          "text": [
            "(S (NP Adhan) (VP (V melihat) (NP (Det seekor) (N kucing))))\n",
            "(S (NP Adhan) (VP (V melihat) (NP (NP (Det seekor) (N kucing)))))\n",
            "(S (NP (NP Adhan)) (VP (V melihat) (NP (Det seekor) (N kucing))))\n",
            "(S\n",
            "  (NP (NP Adhan))\n",
            "  (VP (V melihat) (NP (NP (Det seekor) (N kucing)))))\n",
            "(S (NP-SBJ (NP Adhan)) (VP (V melihat) (NP (Det seekor) (N kucing))))\n",
            "(S\n",
            "  (NP-SBJ (NP Adhan))\n",
            "  (VP (V melihat) (NP (NP (Det seekor) (N kucing)))))\n",
            "(S\n",
            "  (NP-SBJ (NP (NP Adhan)))\n",
            "  (VP (V melihat) (NP (Det seekor) (N kucing))))\n",
            "(S\n",
            "  (NP-SBJ (NP (NP Adhan)))\n",
            "  (VP (V melihat) (NP (NP (Det seekor) (N kucing)))))\n"
          ],
          "name": "stdout"
        }
      ]
    },
    {
      "cell_type": "code",
      "metadata": {
        "id": "jqa2a9ndKTFn",
        "colab": {
          "base_uri": "https://localhost:8080/",
          "height": 595
        },
        "outputId": "6bbb21d6-5547-4bfb-c415-0e3b962010a9"
      },
      "source": [
        "parser = ViterbiParser(grammar_3, trace=2)\n",
        "for t in parser.parse(sent2_2):\n",
        "  t.pretty_print()"
      ],
      "execution_count": null,
      "outputs": [
        {
          "output_type": "stream",
          "text": [
            "Inserting tokens into the most likely constituents table...\n",
            "   Insert: |=...| Adhan\n",
            "   Insert: |.=..| melihat\n",
            "   Insert: |..=.| seekor\n",
            "   Insert: |...=| kucing\n",
            "Finding the most likely constituents spanning 1 text elements...\n",
            "   Insert: |=...| NP -> 'Adhan' [0.037037]\n",
            "  Discard: |=...| NP -> NP [0.037037]\n",
            "   Insert: |=...| NP-SBJ -> NP [0.111111]\n",
            "  Discard: |=...| NP -> NP [0.037037]\n",
            "   Insert: |.=..| V -> 'melihat' [1.0]\n",
            "   Insert: |..=.| Det -> 'seekor' [1.0]\n",
            "   Insert: |...=| N -> 'kucing' [1.0]\n",
            "Finding the most likely constituents spanning 2 text elements...\n",
            "   Insert: |..==| NP -> Det N [0.037037]\n",
            "  Discard: |..==| NP -> NP [0.037037]\n",
            "   Insert: |..==| NP-SBJ -> NP [0.111111]\n",
            "  Discard: |..==| NP -> NP [0.037037]\n",
            "Finding the most likely constituents spanning 3 text elements...\n",
            "   Insert: |.===| VP -> V NP [0.0666667]\n",
            "Finding the most likely constituents spanning 4 text elements...\n",
            "   Insert: |====| S -> NP-SBJ VP [0.5]\n",
            "   Insert: |====| S -> NP VP [0.0714286]\n",
            "  Discard: |====| S -> NP-SBJ VP [0.5]\n",
            "               S                   \n",
            "   ____________|____                \n",
            "  |                 VP             \n",
            "  |       __________|_____          \n",
            "  |      |                NP       \n",
            "  |      |           _____|____     \n",
            "  NP     V         Det         N   \n",
            "  |      |          |          |    \n",
            "Adhan melihat     seekor     kucing\n",
            "\n"
          ],
          "name": "stdout"
        }
      ]
    }
  ]
}
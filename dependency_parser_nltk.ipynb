{
  "nbformat": 4,
  "nbformat_minor": 0,
  "metadata": {
    "colab": {
      "name": "dependency_parser_nltk.ipynb",
      "provenance": []
    },
    "kernelspec": {
      "name": "python3",
      "display_name": "Python 3"
    }
  },
  "cells": [
    {
      "cell_type": "markdown",
      "metadata": {
        "id": "CUuGrdnUH-oO"
      },
      "source": [
        "Tutorial Pekan Ketujuh, *Dependency Parsing* dengan NLTK\n",
        "\n",
        "Sumber: \n",
        "\n",
        "https://www.nltk.org/book/ch08.html\n",
        "\n",
        "http://www.nltk.org/howto/dependency.html"
      ]
    },
    {
      "cell_type": "markdown",
      "metadata": {
        "id": "i_v3zcE6IXk3"
      },
      "source": [
        "Install library NLTK"
      ]
    },
    {
      "cell_type": "code",
      "metadata": {
        "id": "hy0fvprVj0jZ",
        "colab": {
          "base_uri": "https://localhost:8080/"
        },
        "outputId": "d5b39b50-f940-4e40-ccaa-8de481ea91e9"
      },
      "source": [
        "!pip install nltk"
      ],
      "execution_count": null,
      "outputs": [
        {
          "output_type": "stream",
          "text": [
            "Requirement already satisfied: nltk in /usr/local/lib/python3.6/dist-packages (3.2.5)\n",
            "Requirement already satisfied: six in /usr/local/lib/python3.6/dist-packages (from nltk) (1.15.0)\n"
          ],
          "name": "stdout"
        }
      ]
    },
    {
      "cell_type": "markdown",
      "metadata": {
        "id": "mur2BBmQIbAf"
      },
      "source": [
        "Import library NLTK"
      ]
    },
    {
      "cell_type": "code",
      "metadata": {
        "id": "rWhPnw9moYpg"
      },
      "source": [
        "import nltk"
      ],
      "execution_count": null,
      "outputs": []
    },
    {
      "cell_type": "markdown",
      "metadata": {
        "id": "bL5X4j9TId2O"
      },
      "source": [
        "Contoh mendefinisikan sebuah *Dependency Grammar*"
      ]
    },
    {
      "cell_type": "code",
      "metadata": {
        "id": "gruw4bSmiqY_"
      },
      "source": [
        "dep_grammar_1 = nltk.DependencyGrammar.fromstring(\"\"\"\n",
        "    'shot' -> 'I' | 'elephant' | 'in'\n",
        "    'elephant' -> 'an' | 'in'\n",
        "    'in' -> 'pajamas'\n",
        "    'pajamas' -> 'my'\n",
        "    \"\"\")"
      ],
      "execution_count": null,
      "outputs": []
    },
    {
      "cell_type": "code",
      "metadata": {
        "id": "pz33dwwWoeLG",
        "colab": {
          "base_uri": "https://localhost:8080/"
        },
        "outputId": "5f4a2663-a2d9-4faa-848c-df0e3478a5d3"
      },
      "source": [
        "print(dep_grammar_1)"
      ],
      "execution_count": null,
      "outputs": [
        {
          "output_type": "stream",
          "text": [
            "Dependency grammar with 7 productions\n",
            "  'shot' -> 'I'\n",
            "  'shot' -> 'elephant'\n",
            "  'shot' -> 'in'\n",
            "  'elephant' -> 'an'\n",
            "  'elephant' -> 'in'\n",
            "  'in' -> 'pajamas'\n",
            "  'pajamas' -> 'my'\n"
          ],
          "name": "stdout"
        }
      ]
    },
    {
      "cell_type": "markdown",
      "metadata": {
        "id": "opcdZC96IsIY"
      },
      "source": [
        "Coba lakukan *parsing* dengan Parser Dependency Projective"
      ]
    },
    {
      "cell_type": "code",
      "metadata": {
        "id": "QtsumC5_o5zN",
        "colab": {
          "base_uri": "https://localhost:8080/"
        },
        "outputId": "6d644a03-a786-4292-bfb4-c83d32158069"
      },
      "source": [
        "pdp = nltk.ProjectiveDependencyParser(dep_grammar_1)\n",
        "sent = 'I shot an elephant in my pajamas'.split()\n",
        "trees = pdp.parse(sent)\n",
        "\n",
        "for tree in trees:\n",
        "    print(tree)"
      ],
      "execution_count": null,
      "outputs": [
        {
          "output_type": "stream",
          "text": [
            "(shot I (elephant an (in (pajamas my))))\n",
            "(shot I (elephant an) (in (pajamas my)))\n"
          ],
          "name": "stdout"
        }
      ]
    },
    {
      "cell_type": "markdown",
      "metadata": {
        "id": "U_kM_8DbI4nJ"
      },
      "source": [
        "Contoh pendefinisian *Dependency Grammar*, untuk di-parse dengan Parser NOn-Projective"
      ]
    },
    {
      "cell_type": "code",
      "metadata": {
        "id": "Njq54auwGXSn"
      },
      "source": [
        "dep_grammar_2 = nltk.DependencyGrammar.fromstring(\"\"\"\n",
        "    'taught' -> 'play' | 'man'\n",
        "    'man' -> 'the'\n",
        "    'play' -> 'golf' | 'dog' | 'to'\n",
        "    'dog' -> 'his'\n",
        "    \"\"\")"
      ],
      "execution_count": null,
      "outputs": []
    },
    {
      "cell_type": "code",
      "metadata": {
        "id": "JqiWpPjCGxdg",
        "colab": {
          "base_uri": "https://localhost:8080/"
        },
        "outputId": "51a2e484-f71b-46ca-bbd4-27c1ecf057a1"
      },
      "source": [
        "print(dep_grammar_2)"
      ],
      "execution_count": null,
      "outputs": [
        {
          "output_type": "stream",
          "text": [
            "Dependency grammar with 7 productions\n",
            "  'taught' -> 'play'\n",
            "  'taught' -> 'man'\n",
            "  'man' -> 'the'\n",
            "  'play' -> 'golf'\n",
            "  'play' -> 'dog'\n",
            "  'play' -> 'to'\n",
            "  'dog' -> 'his'\n"
          ],
          "name": "stdout"
        }
      ]
    },
    {
      "cell_type": "markdown",
      "metadata": {
        "id": "7DxXFXutJE1R"
      },
      "source": [
        "Coba lakukan *parsing* berdasar Grammar dep_grammar_2, dengan Parser Non Projective"
      ]
    },
    {
      "cell_type": "code",
      "metadata": {
        "id": "3WfBGOvOHCJM",
        "colab": {
          "base_uri": "https://localhost:8080/"
        },
        "outputId": "96224acb-6812-4fcf-a836-d643c9121f6a"
      },
      "source": [
        "npdp = nltk.NonprojectiveDependencyParser(dep_grammar_2)\n",
        "sent = 'the man taught his dog to play golf'.split()\n",
        "trees = npdp.parse(sent)\n",
        "\n",
        "for tree in trees:\n",
        "    print(tree)"
      ],
      "execution_count": null,
      "outputs": [
        {
          "output_type": "stream",
          "text": [
            "defaultdict(<function DependencyGraph.__init__.<locals>.<lambda> at 0x7fc4660b16a8>,\n",
            "            {0: {'address': 0,\n",
            "                 'ctag': 'TOP',\n",
            "                 'deps': defaultdict(<class 'list'>, {'ROOT': [3]}),\n",
            "                 'feats': None,\n",
            "                 'head': None,\n",
            "                 'lemma': None,\n",
            "                 'rel': None,\n",
            "                 'tag': 'TOP',\n",
            "                 'word': None},\n",
            "             1: {'address': 1,\n",
            "                 'ctag': None,\n",
            "                 'deps': defaultdict(<class 'list'>, {}),\n",
            "                 'feats': None,\n",
            "                 'head': None,\n",
            "                 'lemma': None,\n",
            "                 'rel': None,\n",
            "                 'tag': None,\n",
            "                 'word': 'the'},\n",
            "             2: {'address': 2,\n",
            "                 'ctag': None,\n",
            "                 'deps': defaultdict(<class 'list'>, {'': [1]}),\n",
            "                 'feats': None,\n",
            "                 'head': None,\n",
            "                 'lemma': None,\n",
            "                 'rel': None,\n",
            "                 'tag': None,\n",
            "                 'word': 'man'},\n",
            "             3: {'address': 3,\n",
            "                 'ctag': None,\n",
            "                 'deps': defaultdict(<class 'list'>, {'': [2, 7]}),\n",
            "                 'feats': None,\n",
            "                 'head': None,\n",
            "                 'lemma': None,\n",
            "                 'rel': None,\n",
            "                 'tag': None,\n",
            "                 'word': 'taught'},\n",
            "             4: {'address': 4,\n",
            "                 'ctag': None,\n",
            "                 'deps': defaultdict(<class 'list'>, {}),\n",
            "                 'feats': None,\n",
            "                 'head': None,\n",
            "                 'lemma': None,\n",
            "                 'rel': None,\n",
            "                 'tag': None,\n",
            "                 'word': 'his'},\n",
            "             5: {'address': 5,\n",
            "                 'ctag': None,\n",
            "                 'deps': defaultdict(<class 'list'>, {'': [4]}),\n",
            "                 'feats': None,\n",
            "                 'head': None,\n",
            "                 'lemma': None,\n",
            "                 'rel': None,\n",
            "                 'tag': None,\n",
            "                 'word': 'dog'},\n",
            "             6: {'address': 6,\n",
            "                 'ctag': None,\n",
            "                 'deps': defaultdict(<class 'list'>, {}),\n",
            "                 'feats': None,\n",
            "                 'head': None,\n",
            "                 'lemma': None,\n",
            "                 'rel': None,\n",
            "                 'tag': None,\n",
            "                 'word': 'to'},\n",
            "             7: {'address': 7,\n",
            "                 'ctag': None,\n",
            "                 'deps': defaultdict(<class 'list'>, {'': [5, 6, 8]}),\n",
            "                 'feats': None,\n",
            "                 'head': None,\n",
            "                 'lemma': None,\n",
            "                 'rel': None,\n",
            "                 'tag': None,\n",
            "                 'word': 'play'},\n",
            "             8: {'address': 8,\n",
            "                 'ctag': None,\n",
            "                 'deps': defaultdict(<class 'list'>, {}),\n",
            "                 'feats': None,\n",
            "                 'head': None,\n",
            "                 'lemma': None,\n",
            "                 'rel': None,\n",
            "                 'tag': None,\n",
            "                 'word': 'golf'}})\n"
          ],
          "name": "stdout"
        }
      ]
    },
    {
      "cell_type": "markdown",
      "metadata": {
        "id": "kL3CavEuJQqg"
      },
      "source": [
        "Contoh mengakses Dependency Treebank Bahasa Inggris\n",
        "\n",
        "Unduh dependency_treebank terlebih dahulu"
      ]
    },
    {
      "cell_type": "code",
      "metadata": {
        "id": "zRNpHCDjqebv",
        "colab": {
          "base_uri": "https://localhost:8080/"
        },
        "outputId": "089e9a17-6cee-4989-c0cf-807347339c64"
      },
      "source": [
        "nltk.download('dependency_treebank')"
      ],
      "execution_count": null,
      "outputs": [
        {
          "output_type": "stream",
          "text": [
            "[nltk_data] Downloading package dependency_treebank to\n",
            "[nltk_data]     /root/nltk_data...\n",
            "[nltk_data]   Unzipping corpora/dependency_treebank.zip.\n"
          ],
          "name": "stdout"
        },
        {
          "output_type": "execute_result",
          "data": {
            "text/plain": [
              "True"
            ]
          },
          "metadata": {
            "tags": []
          },
          "execution_count": 11
        }
      ]
    },
    {
      "cell_type": "markdown",
      "metadata": {
        "id": "uyRBMsJVJeP9"
      },
      "source": [
        "Mengakses kalimat pertama pada korpus dependency_treebank.\n",
        "\n",
        "Kemudian menampilkan dalam format CONLL, 3 kolom"
      ]
    },
    {
      "cell_type": "code",
      "metadata": {
        "id": "PRlhi9wcpD8P",
        "colab": {
          "base_uri": "https://localhost:8080/"
        },
        "outputId": "4808472d-20e8-4e16-cf45-471e36e91da6"
      },
      "source": [
        "from nltk.corpus import dependency_treebank\n",
        "t = dependency_treebank.parsed_sents()[0]\n",
        "print(t.to_conll(3))"
      ],
      "execution_count": null,
      "outputs": [
        {
          "output_type": "stream",
          "text": [
            "Pierre\tNNP\t2\t\n",
            "Vinken\tNNP\t8\t\n",
            ",\t,\t2\t\n",
            "61\tCD\t5\t\n",
            "years\tNNS\t6\t\n",
            "old\tJJ\t2\t\n",
            ",\t,\t2\t\n",
            "will\tMD\t0\t\n",
            "join\tVB\t8\t\n",
            "the\tDT\t11\t\n",
            "board\tNN\t9\t\n",
            "as\tIN\t9\t\n",
            "a\tDT\t15\t\n",
            "nonexecutive\tJJ\t15\t\n",
            "director\tNN\t12\t\n",
            "Nov.\tNNP\t9\t\n",
            "29\tCD\t16\t\n",
            ".\t.\t8\t\n",
            "\n"
          ],
          "name": "stdout"
        }
      ]
    }
  ]
}
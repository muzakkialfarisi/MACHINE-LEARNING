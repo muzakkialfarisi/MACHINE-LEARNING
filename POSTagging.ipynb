{
  "nbformat": 4,
  "nbformat_minor": 0,
  "metadata": {
    "colab": {
      "name": "POSTagging.ipynb",
      "provenance": [],
      "collapsed_sections": [],
      "authorship_tag": "ABX9TyNaanQalkyPJv5PoiBMR7Bt",
      "include_colab_link": true
    },
    "kernelspec": {
      "name": "python3",
      "display_name": "Python 3"
    }
  },
  "cells": [
    {
      "cell_type": "markdown",
      "metadata": {
        "id": "view-in-github",
        "colab_type": "text"
      },
      "source": [
        "<a href=\"https://colab.research.google.com/github/muzakkialfarisi/MACHINE-LEARNING/blob/master/POSTagging.ipynb\" target=\"_parent\"><img src=\"https://colab.research.google.com/assets/colab-badge.svg\" alt=\"Open In Colab\"/></a>"
      ]
    },
    {
      "cell_type": "code",
      "metadata": {
        "id": "fi6T4v9lDLlD",
        "colab": {
          "base_uri": "https://localhost:8080/",
          "height": 68
        },
        "outputId": "34f5fc33-1cd4-4160-eb07-418a41e17a70"
      },
      "source": [
        "from google.colab import drive\n",
        "drive.mount('drive/')\n",
        "# 'drive/My Drive/Colab Notebooks/NLP/DataTrain/*.txt'\n",
        "import nltk\n",
        "nltk.download('punkt')\n",
        "import csv"
      ],
      "execution_count": null,
      "outputs": [
        {
          "output_type": "stream",
          "text": [
            "Drive already mounted at drive/; to attempt to forcibly remount, call drive.mount(\"drive/\", force_remount=True).\n",
            "[nltk_data] Downloading package punkt to /root/nltk_data...\n",
            "[nltk_data]   Package punkt is already up-to-date!\n"
          ],
          "name": "stdout"
        }
      ]
    },
    {
      "cell_type": "code",
      "metadata": {
        "id": "n5hQVfXd4Qt-"
      },
      "source": [
        "# baca file train XOR test\n",
        "def kalimat_text(file_name, jenis_data):\n",
        "  # bedain test atau train\n",
        "  jenis_data = jenis_data.lower()\n",
        "  if jenis_data == 'train':\n",
        "    panjang = 50\n",
        "  else:\n",
        "    if jenis_data == 'test':\n",
        "      panjang = 10\n",
        "    else:\n",
        "      return False\n",
        "\n",
        "  # baca file\n",
        "  tempat = []\n",
        "  with open(file_name, 'r') as tsv:\n",
        "    tsv_reader = csv.reader(tsv, delimiter='\\n', quoting=csv.QUOTE_NONE)\n",
        "    for row in tsv_reader:\n",
        "      tempat.append(','.join(row))\n",
        "\n",
        "  # misahin perkalimat\n",
        "  dot = []\n",
        "  for i in range(len(tempat)):\n",
        "    if tempat[i] == '.\\tZ':\n",
        "      dot.append(i+1)\n",
        "\n",
        "  # bikin buat arr 2 dimensi \n",
        "  start = [0]\n",
        "  for i in range(panjang-1):\n",
        "    start.append(dot[i])\n",
        "  outer = []\n",
        "  # kalaimat di dalem\n",
        "  for i in range(panjang):\n",
        "    inner = []\n",
        "    for j in range(start[i],dot[i]):\n",
        "      # ganti string\n",
        "      inner.append(tempat[j].replace('\\t', '/'))\n",
        "    outer.append(inner)\n",
        "  alhamdulillah = []\n",
        "  # jadiin 1 dimensi\n",
        "  for i in range(len(outer)):\n",
        "    alhamdulillah.append(' '.join(outer[i]))\n",
        "  return alhamdulillah"
      ],
      "execution_count": null,
      "outputs": []
    },
    {
      "cell_type": "code",
      "metadata": {
        "id": "4AuPzzi0XIn9",
        "colab": {
          "base_uri": "https://localhost:8080/",
          "height": 54
        },
        "outputId": "8c739a6a-6ebc-4180-a715-b6c1b812f69f"
      },
      "source": [
        "# train\n",
        "text = kalimat_text('drive/My Drive/Colab Notebooks/NLP/DataTrain/train.01.tsv', 'train')\n",
        "print(text)"
      ],
      "execution_count": null,
      "outputs": [
        {
          "output_type": "stream",
          "text": [
            "['Pemerintah/NN bahkan/RB telah/MD mencanangkan/VB dana/NN untuk/SC memicu/VB sektor/NN usaha/NN kecil/JJ dan/CC menengah/JJ UKM/NN tumbuh/VB lebih/RB baik/JJ ,/Z karena/SC sektor/NN ini/PR cukup/RB kuat/JJ dalam/IN krisis/JJ keuangan/NN pada/IN tahun/NN 1997/CD lalu/CC ,/Z kata/VB -nya/PRP ./Z', ' Gubernur/NNP Bank/NNP Indonesia/NNP Burhanudin/NNP Abdullah/NNP optimistis/JJ mencapai/VB target/NN proyeksi/NN Suku/NN Bunga/NN Indonesia/NNP SBI/NNP 2008/CD yang/SC mencapai/VB 7,5/CD -/Z 8,0/CD persen/CD ./Z', ' Badan/NN Kredit/NN Desa/NN boleh/MD dibilang/VB sebagai/IN tonggak sejarah/NN berdiri/VB -nya/PRP Lembaga/NN Keuangan/NN Mikro/JJ di/IN Indonesia/NNP ./Z', ' Pada/IN tahun/NN 1991/CD jumlah/NN utang/NN luar negeri/NN pemerintah/NN membengkak/VB dua/CD kali/NND lipat/VB menjadi/VB US/NNP $/SYM 45,725/CD miliar/CD ./Z', ' Kami/PRP sampaikan/VB bahwa/SC pemerintah/NN optimis/NN mengenai/IN tercapai/VB -nya/PRP target/NN pertumbuhan ekonomi/NN sebesar/JJ 6,2/CD persen/CD dalam/IN tahun/NN 2009/CD ,/Z kata/VB Menteri/NNP Keuangan/NNP Menkeu/NNP Sri/NNP Mulyani/NNP Indrawati/NNP  Yen/NN saat/NN ini/PR merosot/VB terhadap/IN dolar/NN AS/NNP ,/Z karena/SC pelaku/NN mengantisipasi/VB rencana/NN kenaikan/NN suku/NN bunga/NN itu/PR ,/Z ucap/VB -nya/PRP ./Z', ' karena/SC pendapatan/NN negara/NN direncanakan/VB Rp/SYM 1.158/CD triliun/CD sementara/SC belanja/NN negara/NN sebesar/JJ Rp/SYM 1.237/CD triliun/CD ./Z', ' Militer/NN AS/NNP telah/MD mengatakan/VB bahwa/SC pos/NN penjagaan/NN perbatasan/NN akan/MD diubah/VB ,/Z sebagian/CD untuk/SC membentuk/VB titik/NN perpindahan/NN guna/SC mencari/VB kendaraan/NN yang/SC masuk/VB ./Z', ' Rupiah/NN berada/VB dalam/IN posisi/NN yang/SC aman/JJ apabila/SC berkisar/VB antara/IN Rp/SYM 9.150/CD sampai/IN Rp/SYM 9.175/CD per/IN dolar/NN AS/NNP ,/Z namun/CC sampai/IN menembus/VB angka/NN Rp/SYM 9.200/CD per/IN dolar/NN AS/NNP biasanya/RB rupiah/NN akan/MD terus/RB terpuruk/VB ./Z', ' Sementara/SC itu/PR ,/Z militer/NN AS/NNP mengumumkan/VB korban/NN pertama/OD mereka/PRP sejak/IN peluncuran/NN rencana/NN keamanan/NN baru/JJ untuk/IN Baghdad/NNP ,/Z dengan/IN kematian/NN dua/CD prajurit/NN -nya/PRP di/IN wilayah/NN utara/NN ibu kota/NN Irak/NNP tersebut/PR Sabtu/NNP ,/Z satu/CD orang/NN karena/SC serangan/NN granat/NN gerilyawan/NN dan/CC yang/SC satu/CD -nya/PRP lagi/RB karena/SC tembakan/NN senjata ringan/NN ./Z', ' Namun/CC sampai/SC saat/NN ini/PR rupiah/NN terlihat/VB sulit/JJ menuju/VB ke/IN level/NN tersebut/PR ,/Z karena/SC pelaku pasar/NN mempunyai/VB persepsi/NN sendiri/PRP ,/Z ucap/VB -nya/PRP ./Z', ' Namun/CC Wakil/NN Menteri/NN Pertahanan/NN tersebut/PR mengakui/VB pada/IN pertemuan/NN satu/CD komite/NN Senat/NNP mengenai/IN anggaran/NN 2008/CD bahwa/SC telah/MD tersiar/VB laporan/NN mengenai/IN turun/VB -nya/PRP pembunuhan/NN antarpengikut/X aliran/NN di/IN negeri/NN itu/PR ./Z', ' Perusahaan/NN didukung/VB oleh/IN jaringan/NN distribusi/NN yang/SC luas/JJ ,/Z terdiri/VB dari/IN 4/CD kantor cabang/NN dan/CC 8/CD kantor perwakilan/NN di/IN luar/NN Indonesia/NNP seperti/IN di/IN Singapura/NNP ,/Z Thailand/NNP dan/CC China/NNP ./Z', ' ULFA/NNP ,/Z yang/SC berjuang/VB untuk/IN pemisahan/NN tanah air/NN warga/NN Assam/NNP sejak/IN tahun/NN 1979/CD dan/CC mengharapkan/VB semua/CD warga/NN non/NEG -/Z Assam/NNP ,/Z terutama/JJ masyarakat/NN yang/SC berbicara/VB dalam/IN bahasa/NNP Hindi/NNP meninggalkan/VB negara/NN tersebut/PR ,/Z namun/CC tidak/NEG mengklaim/VB bertanggung jawab/VB atas/IN terjadi/VB -nya/PRP serangan-serangan/NN ./Z', ' Jadi/VB saya/PRP itu/PR harus/MD hati-hati/JJ betul/JJ mengelola/VB dan/CC membuat/VB kebijakan/NN BUMN/NN ,/Z ujar/VB Sugiharto/NNP ./Z', ' Kami/PRP telah/MD mendapatkan/VB jaminan/NN dari/IN PGN/NNP akan/MD kelancaran/NN pasokan/NN gas/NN yang/SC dialirkan/VB melalui/IN pipa/NN SSWJ/NNP ./Z', ' Tiga/CD pilar/NN setan/NN tersebut/PR semakin/RB dikokohkan/VB gerak/VB -nya/PRP dengan/SC adanya/NN sistem/NN nilai tukar/NN mengambang/VB ./Z', ' Sementara/SC itu/PR ,/Z Menteri/NNP Pertahanan/NNP India/NNP ,/Z AK/NNP Antony/NNP dan/CC kepala/NNP militer/NNP Jenderal/NNP JJ/NNP Singh/NNP ,/Z dijadwalkan/VB untuk/SC mengunjungi/VB negara bagian/NN yang/SC dijadikan/VB sasaran/NN serangan/NN Selasa/NNP ,/Z untuk/SC menilai/VB situasi/NN keamanan/NN ./Z', ' Komisaris/NNP BUMI/NNP Nalinkant/NNP Rathod/NNP memaparkan/VB ,/Z Tata/NNP Power/NNP telah/MD masuk/VB ke/IN dalam/NN persetujuan/NN jangka panjang/NN dengan/IN KPC/NNP yang/SC akan/MD menyuplai/VB sekitar/IN 10/CD juta/CD ton/NND batu bara/NN per/IN tahun/NN untuk/SC pembangkit/NN listrik/NN di/IN Trombay/NNP ,/Z India/NNP ,/Z dan/CC juga/RB sejumlah/CD proyek/NN masa/NN depan/NN lain/JJ -nya/PRP ./Z', ' Badan/NNP POM/NNP selama/IN ini/PR misal nya/NN ikut/VB menentukan/VB boleh/MD masuk/VB atau/CC tidak/NEG -nya/PRP makanan/NN serta/CC obat-obatan/NN dari/IN berbagai/CD negara/NN mitra/NN dagang/NN Indonesia/NNP ./Z', \" Namun/CC tidak/NEG tertutup/VB BI/NNP akan/MD tetap/RB menahan/VB di/IN level/NN 9/CD persen/CD dengan/IN '/Z kompensasi/NN '/Z pekan/NN ini/PR BI/NNP masih/MD akan/MD terus/RB melonggarkan/VB aturan-aturan/NN perbankan/NN di/IN bidang/NN perkreditan/NN ./Z\", ' Sri/NNP Mulyani/NNP dalam/IN acara/NN pembukaan/NN Indonesia/NNP Investor/NNP Forum/NNP II/OD di/IN Jakarta/NNP ,/Z Selasa/NNP ,/Z mengatakan/VB kontribusi/NN pasar modal/NN terhadap/IN PDB/NN ini/PR menunjukkan/VB trend/FW naik/VB dibanding/VB pada/IN akhir/NN 2006/CD yang/SC hanya/RB sebesar/JJ 37,4/CD persen/CD dari/IN PDB/NN dengan/IN kapitalisasi/NN Rp/SYM 1.250/CD triliun/CD ./Z', ' Menurut/IN -nya/PRP ,/Z transaksi/NN tersebut/PR adalah/VB transaksi/NN material/NN yang/SC harus/MD disetujui/VB oleh/IN mayoritas/NN pemegang saham/NN ENRG/NNP pada/IN Rapat/NN Umum/JJ Pemegang/NN Saham/NN Luar Biasa/NN RUPSLB/NN yang/SC akan/MD dilaksanakan/VB sekitar/IN awal/NN April/NNP 2007/CD ./Z', ' Permodalan/NN Panin/NNP adalah/VB kuat/JJ dengan/SC CAR/FW total/NN 29,5/CD persen/CD pada/IN akhir/NN tahun/NN 2006/CD Tier/FW 1/CD :/Z 21,8/CD persen/CD ,/Z di/IN atas/NN rata-rata/NN industri/NN yang/SC sebesar/JJ 20,5/CD persen/CD ./Z', ' Beberapa/CD kelompok/NN kecil/JJ pemrotes/NN mengibarkan/VB spanduk/NN yang/SC mencela/VB referendum/NN tersebut/PR dan/CC menyerukan/VB boikot/VB dari/IN dalam/NN halaman/NN gedung/NN perserikatan/NN wartawan/NN di/IN pusat/NN kota/NN Kairo/NNP ,/Z di/IN tengah/NN pengamanan/NN ketat/JJ ./Z', ' Itu/PR adalah/VB pengeboman/NN bunuh/VB diri/NN ./Z', ' Rupiah/NN ,/Z ia/PRP mengatakan/VB ,/Z kemungkinan/MD akan/MD masih/MD terpuruk/VB yang/SC cenderung/JJ mendekati/VB level/NN Rp/SYM 9.4/CD per/IN dolar/NN AS/NNP ,/Z namun/CC Bank/NNP Indonesia/NNP BI/NNP diperkirakan/VB akan/MD masuk/VB pasar/NN untuk/SC mengantisipasi/VB tekanan/NN yang/SC cukup/RB besar/JJ terhadap/IN rupiah/NN ./Z', ' AS/NNP pada/IN Mei/NNP lalu/CC melarang/VB penjualan/NN senjata/NN ke/IN Venezuela/NNP ,/Z yang/SC biasanya/RB membeli/VB peralatan/NN militer/NN Amerika/NNP ./Z', ' Perseroan/NN pada/IN tahun/NN lalu/CC mengalami/VB rugi/JJ luar biasa/JJ Rp/SYM 1,73/CD miliar/CD dibanding/VB tahun/NN sebelum/SC -nya/PRP yang/SC membukukan/VB keuntungan/NN luar biasa/JJ Rp/SYM 455,68/CD miliar/CD ./Z', ' Tapi/CC ,/Z Fico/NNP menekankan/VB bahwa/SC satuan/NN disebut/VB pelopor/NN itu/PR hanya/RB akan/MD bekerja/VB dalam/IN perbatasan/NN pangkalan/NN udara/NN satu-satunya/JJ di/IN kota/NN tersebut/PR dan/CC bahwa/SC jumlah/NN tentara/NN Slowakia/NNP di/IN Afganistan/NNP akan/MD dibatasi/VB hanya/RB 65/CD orang/NN ./Z', ' Ia/PRP menambahkan/VB penyesuaian/NN tersebut/PR juga/RB untuk/SC mengantisipasi/VB indikasi/NN ekspektasi/NN tingkat/NN inflasi/NN yang/SC masih/MD tinggi/JJ berkenaan/VB dengan/IN datang/VB -nya/PRP Ramadhan/NNP ,/Z lebaran/NNP dan/CC tahun baru/NNP ./Z', ' Memang/RB ada/VB mekanisme/NN lain/JJ ,/Z tetapi/CC kami/PRP tidak/NEG bisa/MD kasih tahu/VB sekarang/NN ,/Z kata/VB Hadiyanto/NNP di/IN Gedung/NNP Departemen/NNP Keuangan/NNP Jakarta/NNP ,/Z Jumat/NNP ./Z', ' Menurut/IN laporan/NN CIA/NNP ,/Z Montoya/NNP dan/CC satu/CD kelompok/NN paramiliter/JJ sebagai/IN bersama/IN melancarkan/VB operasi/NN militer/NN pada/IN 2002/CD guna/SC menghancurkan/VB gerilyawan/NN Marxis/NNP dari/IN daerah/NN miskin/JJ di/IN sekitar/IN Medellin/NNP ,/Z kota industri/NN di/IN Kolombia/NNP ,/Z kata/VB Los/NNP Angeles/NNP Times/NNP ./Z', ' inflasi/NN Juli/NNP year/FW on/FW year/FW mencapai/VB 11,9/CD persen/CD ./Z', ' Pemerintah/NN memperkirakan/VB pertumbuhan ekonomi/NN pada/IN triwulan/NN III/OD 2007/CD mencapai/VB sekitar/IN 6,2/CD hingga/IN 6,4/CD persen/CD yang/SC didorong/VB oleh/IN faktor/NN konsumsi/NN ,/Z investasi/NN ,/Z dan/CC ekspor/NN ./Z', ' Pemerintah/NN mengusulkan/VB pengenaan/NN pajak penjualan/NN atas/IN barang mewah/NN PPnBM/NN maksimal/JJ sebesar/JJ 200/CD persen/CD ,/Z atau/CC jauh/JJ DI/IN ATAS/NN PPnBM/NN maksimal/JJ saat/NN ini/PR 75/CD persen/CD ,/Z demikian/PR salah satu/CD perubahan/NN yang/SC diajukan/VB pemerintah/NN dalam/IN draf/NN RUU/NNP Pajak/NNP Pertambahan/NN Nilai/NNP PPN/NN dan/CC PPnBM/NN ./Z', ' Para/DT pejabat/NN mengatakan/VB ,/Z botol/NN tersebut/PR berisi/VB beberapa/CD jenis/NND cairan/NN mudah/JJ terbakar/VB dan/CC jelas/JJ kelihatan/VB menjadi/VB sebab/SC kebakaran/NN ./Z', ' Nilai/NN penjualan/NN saham/NN ISAT/NNP ini/PR mencapai/VB 2,4/CD miliar/CD dolar/NN Singapura/NNP atau/CC 1,8/CD miliar/CD dolar/NN AS/NNP atau/CC Rp/SYM 16,2/CD triliun/CD ./Z', ' Bank/NNP Syariah/NNP Mandiri/NNP BSM/NNP menaikkan/VB target/NN perolehan/NN laba bersih/NN pada/IN 2007/CD dari/IN sebelum/SC -nya/PRP sebesar/JJ Rp/SYM 75/CD miliar/CD menjadi/VB sebesar/JJ Rp/SYM 113/CD miliar/CD ./Z', ' Kenaikan/NN terjadi/VB karena/SC adanya/NN kenaikan/NN tarif/NN dan/CC perbaikan/NN penegakan/NN hukum/NN ,/Z kata/VB -nya/PRP ./Z', ' Perkembangan/NN pasar modal/NN juga/RB sudah/MD kembali/VB menunjukkan/VB trend/FW meningkat/VB ./Z', ' Di/IN kalangan/NN otoritas/NN moneter/JJ rupa/NN -nya/PRP dianut/VB mitos/NN bahwa/SC lembaga keuangan/NN yang/SC lebih/RB besar/JJ adalah/VB yang/SC lebih/RB baik/JJ opini/NN penulis/NN dalam/IN Media/NNP Indonesia/NNP ,/Z 24/CD Mei/NNP 2000/CD ./Z', ' Bank/NNP Indonesia/NNP BI/NNP akan/MD mengkaji/VB kemungkinan/NN menaikkan/VB persentase/NN Giro/NN Wajib/JJ Minimum/NN GWM/NN perbankan/NN di/IN Bank/NNP Indonesia/NNP BI/NNP sebagai/IN instrumen/NN untuk/SC mengendalikan/VB inflasi/NN yang/SC terus/RB tertekan/VB akibat/NN tinggi/JJ -nya/PRP harga/NN minyak/NN dunia/NN ./Z', ' Bimo/NNP mengatakan/VB ,/Z lahan/NN penambangan/NN batu/NN granit/NN itu/PR dalam/IN status/NN penyelidikan/NN ,/Z sehingga/SC apabila/SC penambangan/NN tetap/RB dilanjutkan/VB akan/MD mengakibatkan/VB dampak/NN hukum/NN yang/SC serius/JJ bagi/IN Antam/NNP sebagai/IN pemegang/NN Surat/NNP Izin/NNP Pertambangan/NNP Daerah/NNP SIPD/NNP ./Z', ' Menurut/IN dia/PRP ,/Z rupiah/NN kemungkinan/MD tidak/NEG akan/MD jauh/JJ berada/VB dalam/IN kisaran/NN antara/IN Rp/SYM 9/CD hingga/IN Rp/SYM 9.1/CD per/IN dolar/NN AS/NNP ./Z', ' Mitra/NNP menambahkan/VB bahwa/SC penurunan/NN tajam/JJ dalam/IN subsidi/NN harga/NN minyak/NN dan/CC tumbuhnya/NN kepercayaan/NN fiskal/JJ pada/IN utang/NN dalam/IN mata uang/NN lokal/JJ dengan/IN bunga/NN tetap/RB telah/MD mengurangi/VB vulnerability/FW sifat/NN rentan/JJ terserang/VB terhadap/IN guncangan/NN bunga/NN atau/CC harga/NN domestik/JJ yang/SC mendadak/RB ./Z', ' Mishra/NNP tidak/NEG menjelaskan/VB kedua/CD orang/NN tersebut/PR ,/Z namun/CC kantor berita/NN India/NNP ,/Z PTI/NNP mengatakan/VB ,/Z mereka/PRP adalah/VB manajer/NN toko/NN tas/NN yang/SC memasok/VB pembungkus/NN untuk/IN koper/NN ,/Z di mana/SC bom-bom/NN itu/PR disembunyikan/VB ./Z', ' Pada/IN tahun/NN 2001/CD penerimaan/NN negara/NN dari/IN pajak/NN dan/CC dividen/NN Indosat/NNP mencapai/VB Rp/SYM 1,4/CD triliun/CD ./Z', ' Menurut/IN Kepala/NNP Divisi/NNP Perdagangan/NNP BEJ/NNP Hamdi/NNP Hassyarbaini/NNP ,/Z suspensi/NN tersebut/PR dilakukan/VB untuk/SC mencegah/VB terjadi/VB -nya/PRP fluktuasi/NN tidak/NEG wajar/JJ atas/IN harga/NN saham/NN BBNI/NNP sehubungan/SC dengan/IN masa/NN penawaran/NN umum/JJ saham/NN kedua/OD PT/NNP Bank/NNP Negara/NNP Indonesia/NNP Tbk./NNP  Sekretaris/NNP Perusahaan/NNP Lautan/NNP Luas/NNP ,/Z Herman/NNP Santoso/NNP ,/Z dalam/IN laporan/NN -nya/PRP kepada/IN Ketua/NN Bapepam/NNP -/NNP LK/NNP di/IN Jakarta/NNP ,/Z Senin/NNP ,/Z mengatakan/VB perusahaan/NN baru/JJ tersebut/PR memproduksi/VB amoniak/NN terletak/VB di/IN Hong/NNP Ze/NNP ,/Z China/NNP dengan/IN total/NN modal/NN dicatatkan/VB sebesar/JJ 60/CD juta/CD RMB/NNP terdiri/VB dari/IN Lautan/NNP Luas/NNP Singapore/NNP Pte/NNP ./NNP Ltd/NNP ./NNP 30/CD persen/CD dan/CC Hongze/NNP Yinzhu/NNP Chemical/NNP Industry/NNP Group/NNP Co./NNP Ltd/NNP ./Z', '70/CD persen/CD ./Z', ' Dalam/IN sebuah/NND pernyataan/NN yang/SC dipublikasikan/VB di/IN Kairo/NNP ,/Z Rabu/NNP lalu/CC ,/Z Kementerian/NNP Penerangan/NNP mengatakan/VB ,/Z pasukan/NN keamanan/NN tak/NEG kan/MD mentoleransi/VB segala/CD upaya/NN untuk/SC mengganggu/VB referendum/NN dan/CC kehidupan/NN demokrasi/NN pada/IN hari/NN itu/PR ./Z']\n"
          ],
          "name": "stdout"
        }
      ]
    },
    {
      "cell_type": "code",
      "metadata": {
        "id": "JD6FmH5Ngtu-"
      },
      "source": [
        "def w_t_freq(text):\n",
        "  word_tag_freq = {} # dictionary untuk menyimpan frekuensi tag kata\n",
        "  tag_count = {} # dictionary untuk menyimpan frekuensi tag\n",
        "  for i in range(0, len(text)): \n",
        "    tokens = text[i].split()\n",
        "    for j in range(0, len(tokens)):\n",
        "      # ketika gata tag, maka satuin sama depanya\n",
        "      if '/' not in tokens[j]:\n",
        "        tokens[j+1] = tokens[j]+' '+tokens[j+1]\n",
        "      pair = tokens[j].split('/')\n",
        "      if len(pair) > 1:\n",
        "        word = pair[0].lower()\n",
        "        tag = pair[1]\n",
        "      # simpan di dictionary tag\n",
        "      if tag in tag_count:\n",
        "        tag_count[tag] = tag_count[tag] + 1\n",
        "      else:\n",
        "        tag_count[tag] = 1\n",
        "      # simpan di dictionary kata,tag\n",
        "      key = (word,tag)\n",
        "      if key in word_tag_freq:\n",
        "        word_tag_freq[key] = word_tag_freq[key] + 1\n",
        "      else:\n",
        "        word_tag_freq[key] = 1\n",
        "  return word_tag_freq, tag_count\n",
        "# print(word_tag_freq)"
      ],
      "execution_count": null,
      "outputs": []
    },
    {
      "cell_type": "code",
      "metadata": {
        "id": "uO00dRxxVGPP",
        "colab": {
          "base_uri": "https://localhost:8080/",
          "height": 54
        },
        "outputId": "48aafa44-be31-4d62-9526-cd54458603dd"
      },
      "source": [
        "# train\n",
        "word_tag_freq = w_t_freq(text)\n",
        "print(word_tag_freq)"
      ],
      "execution_count": null,
      "outputs": [
        {
          "output_type": "stream",
          "text": [
            "({('pemerintah', 'NN'): 6, ('bahkan', 'RB'): 1, ('telah', 'MD'): 6, ('mencanangkan', 'VB'): 1, ('dana', 'NN'): 1, ('untuk', 'SC'): 10, ('memicu', 'VB'): 1, ('sektor', 'NN'): 2, ('usaha', 'NN'): 1, ('kecil', 'JJ'): 2, ('dan', 'CC'): 21, ('menengah', 'JJ'): 1, ('ukm', 'NN'): 1, ('tumbuh', 'VB'): 1, ('lebih', 'RB'): 3, ('baik', 'JJ'): 2, (',', 'Z'): 67, ('karena', 'SC'): 8, ('ini', 'PR'): 9, ('cukup', 'RB'): 2, ('kuat', 'JJ'): 2, ('dalam', 'IN'): 15, ('krisis', 'JJ'): 1, ('keuangan', 'NN'): 2, ('pada', 'IN'): 14, ('tahun', 'NN'): 9, ('1997', 'CD'): 1, ('lalu', 'CC'): 4, ('kata', 'VB'): 5, ('-nya', 'PRP'): 21, ('.', 'Z'): 50, ('gubernur', 'NNP'): 1, ('bank', 'NNP'): 6, ('indonesia', 'NNP'): 11, ('burhanudin', 'NNP'): 1, ('abdullah', 'NNP'): 1, ('optimistis', 'JJ'): 1, ('mencapai', 'VB'): 6, ('target', 'NN'): 4, ('proyeksi', 'NN'): 1, ('suku', 'NN'): 2, ('bunga', 'NN'): 4, ('sbi', 'NNP'): 1, ('2008', 'CD'): 2, ('yang', 'SC'): 29, ('7,5', 'CD'): 1, ('-', 'Z'): 2, ('8,0', 'CD'): 1, ('persen', 'CD'): 13, ('badan', 'NN'): 1, ('kredit', 'NN'): 1, ('desa', 'NN'): 1, ('boleh', 'MD'): 2, ('dibilang', 'VB'): 1, ('sebagai', 'IN'): 5, ('tonggak sejarah', 'NN'): 1, ('berdiri', 'VB'): 1, ('lembaga', 'NN'): 1, ('mikro', 'JJ'): 1, ('di', 'IN'): 23, ('1991', 'CD'): 1, ('jumlah', 'NN'): 2, ('utang', 'NN'): 3, ('luar negeri', 'NN'): 1, ('membengkak', 'VB'): 1, ('dua', 'CD'): 2, ('kali', 'NND'): 1, ('lipat', 'VB'): 1, ('menjadi', 'VB'): 3, ('us', 'NNP'): 1, ('$', 'SYM'): 1, ('45,725', 'CD'): 1, ('miliar', 'CD'): 7, ('kami', 'PRP'): 3, ('sampaikan', 'VB'): 1, ('bahwa', 'SC'): 8, ('optimis', 'NN'): 1, ('mengenai', 'IN'): 3, ('tercapai', 'VB'): 1, ('pertumbuhan ekonomi', 'NN'): 2, ('sebesar', 'JJ'): 8, ('6,2', 'CD'): 2, ('2009', 'CD'): 1, ('menteri', 'NNP'): 2, ('keuangan', 'NNP'): 2, ('menkeu', 'NNP'): 1, ('sri', 'NNP'): 2, ('mulyani', 'NNP'): 2, ('indrawati', 'NNP'): 1, ('yen', 'NN'): 1, ('saat', 'NN'): 3, ('merosot', 'VB'): 1, ('terhadap', 'IN'): 4, ('dolar', 'NN'): 7, ('as', 'NNP'): 9, ('pelaku', 'NN'): 1, ('mengantisipasi', 'VB'): 3, ('rencana', 'NN'): 2, ('kenaikan', 'NN'): 3, ('itu', 'PR'): 10, ('ucap', 'VB'): 2, ('pendapatan', 'NN'): 1, ('negara', 'NN'): 5, ('direncanakan', 'VB'): 1, ('rp', 'SYM'): 15, ('1.158', 'CD'): 1, ('triliun', 'CD'): 5, ('sementara', 'SC'): 3, ('belanja', 'NN'): 1, ('1.237', 'CD'): 1, ('militer', 'NN'): 4, ('mengatakan', 'VB'): 8, ('pos', 'NN'): 1, ('penjagaan', 'NN'): 1, ('perbatasan', 'NN'): 2, ('akan', 'MD'): 14, ('diubah', 'VB'): 1, ('sebagian', 'CD'): 1, ('membentuk', 'VB'): 1, ('titik', 'NN'): 1, ('perpindahan', 'NN'): 1, ('guna', 'SC'): 2, ('mencari', 'VB'): 1, ('kendaraan', 'NN'): 1, ('masuk', 'VB'): 4, ('rupiah', 'NN'): 6, ('berada', 'VB'): 2, ('posisi', 'NN'): 1, ('aman', 'JJ'): 1, ('apabila', 'SC'): 2, ('berkisar', 'VB'): 1, ('antara', 'IN'): 2, ('9.150', 'CD'): 1, ('sampai', 'IN'): 2, ('9.175', 'CD'): 1, ('per', 'IN'): 5, ('namun', 'CC'): 8, ('menembus', 'VB'): 1, ('angka', 'NN'): 1, ('9.200', 'CD'): 1, ('biasanya', 'RB'): 2, ('terus', 'RB'): 3, ('terpuruk', 'VB'): 2, ('mengumumkan', 'VB'): 1, ('korban', 'NN'): 1, ('pertama', 'OD'): 1, ('mereka', 'PRP'): 2, ('sejak', 'IN'): 2, ('peluncuran', 'NN'): 1, ('keamanan', 'NN'): 3, ('baru', 'JJ'): 2, ('untuk', 'IN'): 3, ('baghdad', 'NNP'): 1, ('dengan', 'IN'): 8, ('kematian', 'NN'): 1, ('prajurit', 'NN'): 1, ('wilayah', 'NN'): 1, ('utara', 'NN'): 2, ('ibu kota', 'NN'): 1, ('irak', 'NNP'): 1, ('tersebut', 'PR'): 13, ('sabtu', 'NNP'): 1, ('satu', 'CD'): 4, ('orang', 'NN'): 3, ('serangan', 'NN'): 2, ('granat', 'NN'): 1, ('gerilyawan', 'NN'): 2, ('lagi', 'RB'): 1, ('tembakan', 'NN'): 2, ('senjata ringan', 'NN'): 1, ('sampai', 'SC'): 1, ('terlihat', 'VB'): 1, ('sulit', 'JJ'): 1, ('menuju', 'VB'): 1, ('ke', 'IN'): 3, ('level', 'NN'): 3, ('pelaku pasar', 'NN'): 1, ('mempunyai', 'VB'): 1, ('persepsi', 'NN'): 1, ('sendiri', 'PRP'): 1, ('wakil', 'NN'): 1, ('menteri', 'NN'): 1, ('pertahanan', 'NN'): 1, ('mengakui', 'VB'): 1, ('pertemuan', 'NN'): 1, ('komite', 'NN'): 1, ('senat', 'NNP'): 1, ('anggaran', 'NN'): 1, ('tersiar', 'VB'): 1, ('laporan', 'NN'): 3, ('turun', 'VB'): 1, ('pembunuhan', 'NN'): 1, ('antarpengikut', 'X'): 1, ('aliran', 'NN'): 1, ('negeri', 'NN'): 1, ('perusahaan', 'NN'): 2, ('didukung', 'VB'): 1, ('oleh', 'IN'): 3, ('jaringan', 'NN'): 1, ('distribusi', 'NN'): 1, ('luas', 'JJ'): 1, ('terdiri', 'VB'): 2, ('dari', 'IN'): 9, ('4', 'CD'): 2, ('kantor cabang', 'NN'): 1, ('8', 'CD'): 2, ('kantor perwakilan', 'NN'): 1, ('luar', 'NN'): 1, ('seperti', 'IN'): 1, ('singapura', 'NNP'): 2, ('thailand', 'NNP'): 1, ('china', 'NNP'): 2, ('ulfa', 'NNP'): 1, ('berjuang', 'VB'): 1, ('pemisahan', 'NN'): 2, ('tanah air', 'NN'): 1, ('warga', 'NN'): 2, ('assam', 'NNP'): 2, ('1979', 'CD'): 1, ('mengharapkan', 'VB'): 1, ('semua', 'CD'): 1, ('non', 'NEG'): 1, ('terutama', 'JJ'): 1, ('masyarakat', 'NN'): 1, ('berbicara', 'VB'): 1, ('bahasa', 'NNP'): 1, ('hindi', 'NNP'): 1, ('meninggalkan', 'VB'): 1, ('tidak', 'NEG'): 7, ('mengklaim', 'VB'): 2, ('bertanggung jawab', 'VB'): 1, ('atas', 'IN'): 4, ('terjadi', 'VB'): 3, ('serangan-serangan', 'NN'): 1, ('jadi', 'VB'): 1, ('saya', 'PRP'): 1, ('harus', 'MD'): 2, ('hati-hati', 'JJ'): 1, ('betul', 'JJ'): 1, ('mengelola', 'VB'): 1, ('membuat', 'VB'): 1, ('kebijakan', 'NN'): 1, ('bumn', 'NN'): 1, ('ujar', 'VB'): 1, ('sugiharto', 'NNP'): 1, ('mendapatkan', 'VB'): 1, ('jaminan', 'NN'): 1, ('pgn', 'NNP'): 1, ('kelancaran', 'NN'): 1, ('pasokan', 'NN'): 1, ('gas', 'NN'): 1, ('dialirkan', 'VB'): 1, ('melalui', 'IN'): 1, ('pipa', 'NN'): 1, ('sswj', 'NNP'): 1, ('tiga', 'CD'): 1, ('pilar', 'NN'): 1, ('setan', 'NN'): 1, ('semakin', 'RB'): 1, ('dikokohkan', 'VB'): 1, ('gerak', 'VB'): 1, ('dengan', 'SC'): 2, ('adanya', 'NN'): 2, ('sistem', 'NN'): 2, ('nilai tukar', 'NN'): 1, ('mengambang', 'VB'): 1, ('pertahanan', 'NNP'): 1, ('india', 'NNP'): 3, ('ak', 'NNP'): 1, ('antony', 'NNP'): 1, ('kepala', 'NNP'): 2, ('militer', 'NNP'): 1, ('jenderal', 'NNP'): 1, ('jj', 'NNP'): 1, ('singh', 'NNP'): 1, ('dijadwalkan', 'VB'): 1, ('mengunjungi', 'VB'): 2, ('negara bagian', 'NN'): 1, ('dijadikan', 'VB'): 1, ('sasaran', 'NN'): 1, ('selasa', 'NNP'): 2, ('menilai', 'VB'): 1, ('situasi', 'NN'): 1, ('komisaris', 'NNP'): 1, ('bumi', 'NNP'): 1, ('nalinkant', 'NNP'): 1, ('rathod', 'NNP'): 1, ('memaparkan', 'VB'): 1, ('tata', 'NNP'): 1, ('power', 'NNP'): 1, ('dalam', 'NN'): 2, ('persetujuan', 'NN'): 2, ('jangka panjang', 'NN'): 1, ('kpc', 'NNP'): 1, ('menyuplai', 'VB'): 1, ('sekitar', 'IN'): 4, ('10', 'CD'): 1, ('juta', 'CD'): 2, ('ton', 'NND'): 2, ('batu bara', 'NN'): 1, ('pembangkit', 'NN'): 1, ('listrik', 'NN'): 1, ('trombay', 'NNP'): 1, ('juga', 'RB'): 3, ('sejumlah', 'CD'): 1, ('proyek', 'NN'): 1, ('masa', 'NN'): 2, ('depan', 'NN'): 1, ('lain', 'JJ'): 2, ('badan', 'NNP'): 1, ('pom', 'NNP'): 1, ('selama', 'IN'): 1, ('misal nya', 'NN'): 1, ('ikut', 'VB'): 1, ('menentukan', 'VB'): 1, ('atau', 'CC'): 5, ('makanan', 'NN'): 1, ('serta', 'CC'): 1, ('obat-obatan', 'NN'): 1, ('berbagai', 'CD'): 1, ('mitra', 'NN'): 1, ('dagang', 'NN'): 1, ('tertutup', 'VB'): 1, ('bi', 'NNP'): 5, ('tetap', 'RB'): 3, ('menahan', 'VB'): 1, ('9', 'CD'): 2, (\"'\", 'Z'): 2, ('kompensasi', 'NN'): 1, ('pekan', 'NN'): 1, ('masih', 'MD'): 3, ('melonggarkan', 'VB'): 1, ('aturan-aturan', 'NN'): 1, ('perbankan', 'NN'): 2, ('bidang', 'NN'): 1, ('perkreditan', 'NN'): 1, ('acara', 'NN'): 1, ('pembukaan', 'NN'): 1, ('investor', 'NNP'): 1, ('forum', 'NNP'): 1, ('ii', 'OD'): 1, ('jakarta', 'NNP'): 3, ('kontribusi', 'NN'): 2, ('pasar modal', 'NN'): 2, ('pdb', 'NN'): 2, ('menunjukkan', 'VB'): 2, ('trend', 'FW'): 2, ('naik', 'VB'): 1, ('dibanding', 'VB'): 2, ('akhir', 'NN'): 2, ('2006', 'CD'): 2, ('hanya', 'RB'): 3, ('37,4', 'CD'): 1, ('kapitalisasi', 'NN'): 1, ('1.250', 'CD'): 1, ('menurut', 'IN'): 4, ('transaksi', 'NN'): 2, ('adalah', 'VB'): 5, ('material', 'NN'): 1, ('disetujui', 'VB'): 1, ('mayoritas', 'NN'): 2, ('pemegang saham', 'NN'): 1, ('enrg', 'NNP'): 1, ('rapat', 'NN'): 1, ('umum', 'JJ'): 2, ('pemegang', 'NN'): 2, ('saham', 'NN'): 5, ('luar biasa', 'NN'): 1, ('rupslb', 'NN'): 1, ('dilaksanakan', 'VB'): 1, ('awal', 'NN'): 1, ('april', 'NNP'): 1, ('2007', 'CD'): 3, ('permodalan', 'NN'): 1, ('panin', 'NNP'): 1, ('car', 'FW'): 1, ('total', 'NN'): 2, ('29,5', 'CD'): 1, ('tier', 'FW'): 1, ('1', 'CD'): 1, (':', 'Z'): 1, ('21,8', 'CD'): 1, ('atas', 'NN'): 2, ('rata-rata', 'NN'): 1, ('industri', 'NN'): 1, ('20,5', 'CD'): 1, ('beberapa', 'CD'): 2, ('kelompok', 'NN'): 2, ('pemrotes', 'NN'): 1, ('mengibarkan', 'VB'): 1, ('spanduk', 'NN'): 1, ('mencela', 'VB'): 1, ('referendum', 'NN'): 2, ('menyerukan', 'VB'): 1, ('boikot', 'VB'): 1, ('halaman', 'NN'): 1, ('gedung', 'NN'): 1, ('perserikatan', 'NN'): 1, ('wartawan', 'NN'): 1, ('pusat', 'NN'): 1, ('kota', 'NN'): 2, ('kairo', 'NNP'): 2, ('tengah', 'NN'): 1, ('pengamanan', 'NN'): 1, ('ketat', 'JJ'): 1, ('pengeboman', 'NN'): 1, ('bunuh', 'VB'): 1, ('diri', 'NN'): 1, ('ia', 'PRP'): 2, ('kemungkinan', 'MD'): 2, ('cenderung', 'JJ'): 1, ('mendekati', 'VB'): 1, ('9.4', 'CD'): 1, ('diperkirakan', 'VB'): 1, ('pasar', 'NN'): 1, ('tekanan', 'NN'): 1, ('besar', 'JJ'): 2, ('mei', 'NNP'): 2, ('melarang', 'VB'): 1, ('penjualan', 'NN'): 2, ('senjata', 'NN'): 1, ('venezuela', 'NNP'): 1, ('membeli', 'VB'): 1, ('peralatan', 'NN'): 1, ('amerika', 'NNP'): 1, ('perseroan', 'NN'): 1, ('mengalami', 'VB'): 1, ('rugi', 'JJ'): 2, ('luar biasa', 'JJ'): 2, ('1,73', 'CD'): 1, ('sebelum', 'SC'): 2, ('membukukan', 'VB'): 1, ('keuntungan', 'NN'): 2, ('455,68', 'CD'): 1, ('tapi', 'CC'): 1, ('fico', 'NNP'): 1, ('menekankan', 'VB'): 1, ('satuan', 'NN'): 1, ('disebut', 'VB'): 1, ('pelopor', 'NN'): 1, ('bekerja', 'VB'): 1, ('pangkalan', 'NN'): 1, ('udara', 'NN'): 1, ('satu-satunya', 'JJ'): 1, ('tentara', 'NN'): 1, ('slowakia', 'NNP'): 1, ('afganistan', 'NNP'): 1, ('dibatasi', 'VB'): 1, ('65', 'CD'): 1, ('menambahkan', 'VB'): 2, ('penyesuaian', 'NN'): 1, ('indikasi', 'NN'): 1, ('ekspektasi', 'NN'): 1, ('tingkat', 'NN'): 1, ('inflasi', 'NN'): 3, ('tinggi', 'JJ'): 2, ('berkenaan', 'VB'): 1, ('datang', 'VB'): 1, ('ramadhan', 'NNP'): 1, ('lebaran', 'NNP'): 1, ('tahun baru', 'NNP'): 1, ('memang', 'RB'): 1, ('ada', 'VB'): 1, ('mekanisme', 'NN'): 1, ('tetapi', 'CC'): 1, ('bisa', 'MD'): 2, ('kasih tahu', 'VB'): 1, ('sekarang', 'NN'): 1, ('hadiyanto', 'NNP'): 1, ('gedung', 'NNP'): 1, ('departemen', 'NNP'): 1, ('jumat', 'NNP'): 1, ('cia', 'NNP'): 1, ('montoya', 'NNP'): 1, ('paramiliter', 'JJ'): 1, ('bersama', 'IN'): 1, ('melancarkan', 'VB'): 1, ('operasi', 'NN'): 1, ('2002', 'CD'): 1, ('menghancurkan', 'VB'): 1, ('marxis', 'NNP'): 1, ('daerah', 'NN'): 1, ('miskin', 'JJ'): 1, ('medellin', 'NNP'): 1, ('kota industri', 'NN'): 1, ('kolombia', 'NNP'): 1, ('los', 'NNP'): 1, ('angeles', 'NNP'): 1, ('times', 'NNP'): 1, ('juli', 'NNP'): 1, ('year', 'FW'): 2, ('on', 'FW'): 1, ('11,9', 'CD'): 1, ('memperkirakan', 'VB'): 2, ('triwulan', 'NN'): 1, ('iii', 'OD'): 1, ('hingga', 'IN'): 2, ('6,4', 'CD'): 1, ('didorong', 'VB'): 1, ('faktor', 'NN'): 1, ('konsumsi', 'NN'): 1, ('investasi', 'NN'): 1, ('ekspor', 'NN'): 1, ('mengusulkan', 'VB'): 1, ('pengenaan', 'NN'): 2, ('pajak penjualan', 'NN'): 1, ('barang mewah', 'NN'): 1, ('ppnbm', 'NN'): 3, ('maksimal', 'JJ'): 2, ('200', 'CD'): 1, ('jauh', 'JJ'): 2, ('75', 'CD'): 2, ('demikian', 'PR'): 2, ('salah satu', 'CD'): 1, ('perubahan', 'NN'): 1, ('diajukan', 'VB'): 1, ('draf', 'NN'): 1, ('ruu', 'NNP'): 1, ('pajak', 'NNP'): 1, ('pertambahan', 'NN'): 1, ('nilai', 'NNP'): 1, ('ppn', 'NN'): 1, ('para', 'DT'): 1, ('pejabat', 'NN'): 1, ('botol', 'NN'): 1, ('berisi', 'VB'): 1, ('jenis', 'NND'): 1, ('cairan', 'NN'): 1, ('mudah', 'JJ'): 1, ('terbakar', 'VB'): 1, ('jelas', 'JJ'): 1, ('kelihatan', 'VB'): 1, ('sebab', 'SC'): 1, ('kebakaran', 'NN'): 1, ('nilai', 'NN'): 1, ('isat', 'NNP'): 1, ('2,4', 'CD'): 1, ('1,8', 'CD'): 1, ('16,2', 'CD'): 1, ('syariah', 'NNP'): 1, ('mandiri', 'NNP'): 1, ('bsm', 'NNP'): 1, ('menaikkan', 'VB'): 2, ('perolehan', 'NN'): 2, ('laba bersih', 'NN'): 1, ('113', 'CD'): 1, ('tarif', 'NN'): 1, ('perbaikan', 'NN'): 1, ('penegakan', 'NN'): 1, ('hukum', 'NN'): 2, ('perkembangan', 'NN'): 2, ('sudah', 'MD'): 1, ('kembali', 'VB'): 1, ('meningkat', 'VB'): 1, ('kalangan', 'NN'): 1, ('otoritas', 'NN'): 1, ('moneter', 'JJ'): 1, ('rupa', 'NN'): 1, ('dianut', 'VB'): 1, ('mitos', 'NN'): 1, ('lembaga keuangan', 'NN'): 1, ('opini', 'NN'): 1, ('penulis', 'NN'): 1, ('media', 'NNP'): 1, ('24', 'CD'): 1, ('2000', 'CD'): 1, ('mengkaji', 'VB'): 1, ('kemungkinan', 'NN'): 1, ('persentase', 'NN'): 1, ('giro', 'NN'): 1, ('wajib', 'JJ'): 1, ('minimum', 'NN'): 1, ('gwm', 'NN'): 1, ('instrumen', 'NN'): 1, ('mengendalikan', 'VB'): 1, ('tertekan', 'VB'): 1, ('akibat', 'NN'): 1, ('harga', 'NN'): 4, ('minyak', 'NN'): 2, ('dunia', 'NN'): 1, ('bimo', 'NNP'): 1, ('lahan', 'NN'): 1, ('penambangan', 'NN'): 2, ('batu', 'NN'): 1, ('granit', 'NN'): 1, ('status', 'NN'): 1, ('penyelidikan', 'NN'): 1, ('sehingga', 'SC'): 1, ('dilanjutkan', 'VB'): 1, ('mengakibatkan', 'VB'): 1, ('dampak', 'NN'): 1, ('serius', 'JJ'): 1, ('bagi', 'IN'): 1, ('antam', 'NNP'): 1, ('surat', 'NNP'): 1, ('izin', 'NNP'): 1, ('pertambangan', 'NNP'): 1, ('daerah', 'NNP'): 1, ('sipd', 'NNP'): 1, ('dia', 'PRP'): 1, ('kisaran', 'NN'): 1, ('9.1', 'CD'): 1, ('mitra', 'NNP'): 1, ('penurunan', 'NN'): 1, ('tajam', 'JJ'): 1, ('subsidi', 'NN'): 1, ('tumbuhnya', 'NN'): 1, ('kepercayaan', 'NN'): 1, ('fiskal', 'JJ'): 1, ('mata uang', 'NN'): 1, ('lokal', 'JJ'): 1, ('mengurangi', 'VB'): 1, ('vulnerability', 'FW'): 1, ('sifat', 'NN'): 1, ('rentan', 'JJ'): 1, ('terserang', 'VB'): 1, ('guncangan', 'NN'): 1, ('domestik', 'JJ'): 1, ('mendadak', 'RB'): 1, ('mishra', 'NNP'): 1, ('menjelaskan', 'VB'): 1, ('kedua', 'CD'): 1, ('kantor berita', 'NN'): 1, ('pti', 'NNP'): 1, ('manajer', 'NN'): 1, ('toko', 'NN'): 1, ('tas', 'NN'): 1, ('memasok', 'VB'): 1, ('pembungkus', 'NN'): 1, ('koper', 'NN'): 1, ('di mana', 'SC'): 1, ('bom-bom', 'NN'): 1, ('disembunyikan', 'VB'): 1, ('2001', 'CD'): 1, ('penerimaan', 'NN'): 1, ('pajak', 'NN'): 1, ('dividen', 'NN'): 1, ('indosat', 'NNP'): 1, ('1,4', 'CD'): 1, ('divisi', 'NNP'): 1, ('perdagangan', 'NNP'): 1, ('bej', 'NNP'): 1, ('hamdi', 'NNP'): 1, ('hassyarbaini', 'NNP'): 1, ('suspensi', 'NN'): 1, ('dilakukan', 'VB'): 1, ('mencegah', 'VB'): 1, ('fluktuasi', 'NN'): 1, ('wajar', 'JJ'): 1, ('bbni', 'NNP'): 1, ('sehubungan', 'SC'): 1, ('penawaran', 'NN'): 1, ('kedua', 'OD'): 1, ('pt', 'NNP'): 1, ('negara', 'NNP'): 1, ('tbk.', 'NNP'): 1, ('sekretaris', 'NNP'): 1, ('perusahaan', 'NNP'): 1, ('lautan', 'NNP'): 2, ('luas', 'NNP'): 2, ('herman', 'NNP'): 1, ('santoso', 'NNP'): 1, ('kepada', 'IN'): 1, ('ketua', 'NN'): 1, ('bapepam', 'NNP'): 1, ('-', 'NNP'): 1, ('lk', 'NNP'): 1, ('senin', 'NNP'): 1, ('memproduksi', 'VB'): 1, ('amoniak', 'NN'): 1, ('terletak', 'VB'): 1, ('hong', 'NNP'): 1, ('ze', 'NNP'): 1, ('modal', 'NN'): 1, ('dicatatkan', 'VB'): 1, ('60', 'CD'): 1, ('rmb', 'NNP'): 1, ('singapore', 'NNP'): 1, ('pte', 'NNP'): 1, ('.', 'NNP'): 2, ('ltd', 'NNP'): 2, ('30', 'CD'): 1, ('hongze', 'NNP'): 1, ('yinzhu', 'NNP'): 1, ('chemical', 'NNP'): 1, ('industry', 'NNP'): 1, ('group', 'NNP'): 1, ('co.', 'NNP'): 1, ('70', 'CD'): 1, ('sebuah', 'NND'): 1, ('pernyataan', 'NN'): 1, ('dipublikasikan', 'VB'): 1, ('rabu', 'NNP'): 1, ('kementerian', 'NNP'): 1, ('penerangan', 'NNP'): 1, ('pasukan', 'NN'): 1, ('tak', 'NEG'): 1, ('kan', 'MD'): 1, ('mentoleransi', 'VB'): 1, ('segala', 'CD'): 1, ('upaya', 'NN'): 1, ('mengganggu', 'VB'): 1, ('kehidupan', 'NN'): 1, ('demokrasi', 'NN'): 1, ('hari', 'NN'): 1}, {'NN': 352, 'RB': 24, 'MD': 33, 'VB': 158, 'SC': 71, 'JJ': 58, 'CC': 41, 'Z': 122, 'PR': 34, 'IN': 121, 'CD': 99, 'PRP': 31, 'NNP': 178, 'NND': 5, 'SYM': 16, 'OD': 4, 'X': 1, 'NEG': 9, 'FW': 8, 'DT': 1})\n"
          ],
          "name": "stdout"
        }
      ]
    },
    {
      "cell_type": "code",
      "metadata": {
        "id": "hFzpSXVq5oyS"
      },
      "source": [
        "# mencari tag sering muncul\n",
        "def get_most_freq_tag(tag_count):\n",
        "  most_freq_tag = max(tag_count[1], key=tag_count[1].get) \n",
        "  return most_freq_tag"
      ],
      "execution_count": null,
      "outputs": []
    },
    {
      "cell_type": "code",
      "metadata": {
        "id": "Ya7Y8OWM6CJ3",
        "colab": {
          "base_uri": "https://localhost:8080/",
          "height": 34
        },
        "outputId": "0f37da04-39b8-4827-9182-f77d99bf96cc"
      },
      "source": [
        "default_tag = get_most_freq_tag(word_tag_freq)\n",
        "print(default_tag)"
      ],
      "execution_count": null,
      "outputs": [
        {
          "output_type": "stream",
          "text": [
            "NN\n"
          ],
          "name": "stdout"
        }
      ]
    },
    {
      "cell_type": "code",
      "metadata": {
        "id": "FiP_KYvmczka",
        "colab": {
          "base_uri": "https://localhost:8080/",
          "height": 54
        },
        "outputId": "4808f8bb-bbf1-4ad7-9614-aec62937f22a"
      },
      "source": [
        "# uji\n",
        "kalimat_uji = kalimat_text('drive/My Drive/Colab Notebooks/NLP/DataTest/test_sentences.tsv', 'test')\n",
        "print(kalimat_uji)"
      ],
      "execution_count": null,
      "outputs": [
        {
          "output_type": "stream",
          "text": [
            "['Menteri/NNP pertahanan/NNP AS/NNP dijadwalkan/VB mengunjungi/VB India/NNP ./Z', ' Tata/NNP Power/NNP menyuplai/VB batu bara/NN pada/IN tahun/NN 2000/CD ./Z', ' Pemerintah/NN hati-hati/JJ dalam/IN mengelola/VB BUMN/NN ./Z', ' Perusahaan/NN baru/JJ tersebut/PR mencanangkan/VB target/NN perolehan/NN laba bersih/NN ./Z', ' Menteri/NNP pertahanan/NNP mengunjungi/VB pangkalan/NN udara/NN ./Z', ' Menurut/IN laporan/NN sekretaris/NN perusahaan/NN ,/Z laba bersih/NN meningkat/VB ./Z', ' Transaksi/NN penjualan/NN barang mewah/NN tahun/NN 2007/CD turun/VB ./Z', ' Menkeu/NN memperkirakan/VB inflasi/NN akan/MD meningkat/VB dibanding/VB tahun/NN lalu/CC ./Z', ' Kenaikan/NN tarif/NN didorong/VB oleh/IN target/NN laba bersih/NN yang/SC meningkat/VB ./Z', ' Makanan/NN dari/IN luar negeri/NN tidak/NEG bisa/MD masuk/VB pasar/NN lokal/JJ ./Z']\n"
          ],
          "name": "stdout"
        }
      ]
    },
    {
      "cell_type": "code",
      "metadata": {
        "id": "mAlelSlwhEBj",
        "colab": {
          "base_uri": "https://localhost:8080/",
          "height": 54
        },
        "outputId": "9a0147c4-544d-4b7c-b387-4d2737343cce"
      },
      "source": [
        "# uji asli\n",
        "test_tokens = w_t_freq(kalimat_uji)\n",
        "print(test_tokens)"
      ],
      "execution_count": null,
      "outputs": [
        {
          "output_type": "stream",
          "text": [
            "({('menteri', 'NNP'): 2, ('pertahanan', 'NNP'): 2, ('as', 'NNP'): 1, ('dijadwalkan', 'VB'): 1, ('mengunjungi', 'VB'): 2, ('india', 'NNP'): 1, ('.', 'Z'): 10, ('tata', 'NNP'): 1, ('power', 'NNP'): 1, ('menyuplai', 'VB'): 2, ('batu bara', 'NN'): 1, ('pada', 'IN'): 1, ('tahun', 'NN'): 3, ('2000', 'CD'): 1, ('pemerintah', 'NN'): 1, ('hati-hati', 'JJ'): 1, ('dalam', 'IN'): 1, ('mengelola', 'VB'): 1, ('bumn', 'NN'): 1, ('perusahaan', 'NN'): 2, ('baru', 'JJ'): 1, ('tersebut', 'PR'): 1, ('mencanangkan', 'VB'): 1, ('target', 'NN'): 3, ('perolehan', 'NN'): 2, ('laba bersih', 'NN'): 3, ('pangkalan', 'NN'): 1, ('udara', 'NN'): 1, ('menurut', 'IN'): 1, ('laporan', 'NN'): 1, ('sekretaris', 'NN'): 1, (',', 'Z'): 2, ('meningkat', 'VB'): 3, ('transaksi', 'NN'): 1, ('penjualan', 'NN'): 2, ('barang mewah', 'NN'): 1, ('2007', 'CD'): 1, ('turun', 'VB'): 1, ('menkeu', 'NN'): 1, ('memperkirakan', 'VB'): 1, ('inflasi', 'NN'): 1, ('akan', 'MD'): 1, ('dibanding', 'VB'): 1, ('lalu', 'CC'): 1, ('kenaikan', 'NN'): 1, ('tarif', 'NN'): 1, ('didorong', 'VB'): 1, ('oleh', 'IN'): 1, ('yang', 'SC'): 1, ('makanan', 'NN'): 1, ('dari', 'IN'): 2, ('luar negeri', 'NN'): 1, ('tidak', 'NEG'): 1, ('bisa', 'MD'): 1, ('masuk', 'VB'): 1, ('pasar', 'NN'): 1, ('lokal', 'JJ'): 1}, {'NNP': 8, 'VB': 15, 'Z': 12, 'NN': 31, 'IN': 6, 'CD': 2, 'JJ': 3, 'PR': 1, 'MD': 2, 'CC': 1, 'SC': 1, 'NEG': 1})\n"
          ],
          "name": "stdout"
        }
      ]
    },
    {
      "cell_type": "code",
      "metadata": {
        "id": "mBVLur_wEE93"
      },
      "source": [
        "# itung akurasi\n",
        "benar = []\n",
        "for i in test_tokens[0]:\n",
        "  if i in word_tag_freq[0]:\n",
        "    benar.append(test_tokens[0].get(i))"
      ],
      "execution_count": null,
      "outputs": []
    },
    {
      "cell_type": "code",
      "metadata": {
        "id": "O8adZdQqAVZM",
        "colab": {
          "base_uri": "https://localhost:8080/",
          "height": 34
        },
        "outputId": "99585a55-d0af-458a-cdf1-e78d7acba38a"
      },
      "source": [
        "akurasi = sum(benar)/sum(test_tokens[0].values())*100\n",
        "print(akurasi,'%')"
      ],
      "execution_count": null,
      "outputs": [
        {
          "output_type": "stream",
          "text": [
            "97.59036144578313 %\n"
          ],
          "name": "stdout"
        }
      ]
    },
    {
      "cell_type": "code",
      "metadata": {
        "id": "Z9w4fTWtcOKK",
        "colab": {
          "base_uri": "https://localhost:8080/"
        },
        "outputId": "68ff3f86-0365-478b-95bb-86626c874b41"
      },
      "source": [
        "# algo buat prediksi\n",
        "\n",
        "# word pada test\n",
        "cek1 = []\n",
        "for i in test_tokens[0]:\n",
        "  cok1 = []\n",
        "  for j in i:\n",
        "    cok1.append(j)\n",
        "  cek1.append(cok1)\n",
        "\n",
        "# word pada train\n",
        "cek2 = []\n",
        "for i in word_tag_freq[0]:\n",
        "  cok2 = []\n",
        "  for j in i:\n",
        "    cok2.append(j)\n",
        "  cek2.append(cok2)\n",
        "\n",
        "\n",
        "pre_w1, pre_t1, pre_train1 = [], [], []\n",
        "for i in range(len(cek1)):\n",
        "  pre_w1.append(cek1[i][0])\n",
        "  pre_t1.append(cek1[i][1])\n",
        "pre_train1.append(pre_w1)\n",
        "pre_train1.append(pre_t1)\n",
        "# print(pre_train1)\n",
        "\n",
        "pre_w2, pre_t2, pre_train2 = [], [], []\n",
        "for i in range(len(cek2)):\n",
        "  pre_w2.append(cek2[i][0])\n",
        "  pre_t2.append(cek2[i][1])\n",
        "pre_train2.append(pre_w2)\n",
        "pre_train2.append(pre_t2)\n",
        "\n",
        "pre = []\n",
        "word = []\n",
        "tag = []\n",
        "val = []\n",
        "# mencari word dan tag yang ada pada train\n",
        "for i in range(len(pre_train1[0])):\n",
        "  for j in range(len(pre_train2[0])):\n",
        "    if pre_train1[0][i] == pre_train2[0][j]:\n",
        "      word.append(pre_train1[0][i])\n",
        "      tag.append(pre_train2[1][j])\n",
        "\n",
        "# mencari freq value data test yang ada pada data train\n",
        "for i in range(len(word)):\n",
        "  sen = (word[i],tag[i])\n",
        "  if sen in word_tag_freq[0]:\n",
        "    val.append(word_tag_freq[0].get(sen))\n",
        "\n",
        "# menentukan value tertinggi jika ada pair word\n",
        "for i in range(1, len(word)):\n",
        "  if word[i] == word[i-1]:\n",
        "    if val[i] > val[i-1]:\n",
        "      val[i-1] = 0\n",
        "    else:\n",
        "      val[i] = 0\n",
        "\n",
        "print('PREDIKSI \\n')\n",
        "for i in range(0, len(word)):\n",
        "  if val[i] != 0:\n",
        "    print(word[i]+'/'+tag[i])\n"
      ],
      "execution_count": null,
      "outputs": [
        {
          "output_type": "stream",
          "text": [
            "PREDIKSI \n",
            "\n",
            "menteri/NNP\n",
            "pertahanan/NN\n",
            "as/NNP\n",
            "dijadwalkan/VB\n",
            "mengunjungi/VB\n",
            "india/NNP\n",
            "./Z\n",
            "tata/NNP\n",
            "power/NNP\n",
            "menyuplai/VB\n",
            "batu bara/NN\n",
            "pada/IN\n",
            "tahun/NN\n",
            "2000/CD\n",
            "pemerintah/NN\n",
            "hati-hati/JJ\n",
            "dalam/IN\n",
            "mengelola/VB\n",
            "bumn/NN\n",
            "perusahaan/NN\n",
            "baru/JJ\n",
            "tersebut/PR\n",
            "mencanangkan/VB\n",
            "target/NN\n",
            "perolehan/NN\n",
            "laba bersih/NN\n",
            "pangkalan/NN\n",
            "udara/NN\n",
            "menurut/IN\n",
            "laporan/NN\n",
            "sekretaris/NNP\n",
            ",/Z\n",
            "meningkat/VB\n",
            "transaksi/NN\n",
            "penjualan/NN\n",
            "barang mewah/NN\n",
            "2007/CD\n",
            "turun/VB\n",
            "menkeu/NNP\n",
            "memperkirakan/VB\n",
            "inflasi/NN\n",
            "akan/MD\n",
            "dibanding/VB\n",
            "lalu/CC\n",
            "kenaikan/NN\n",
            "tarif/NN\n",
            "didorong/VB\n",
            "oleh/IN\n",
            "yang/SC\n",
            "makanan/NN\n",
            "dari/IN\n",
            "luar negeri/NN\n",
            "tidak/NEG\n",
            "bisa/MD\n",
            "masuk/VB\n",
            "pasar/NN\n",
            "lokal/JJ\n"
          ],
          "name": "stdout"
        }
      ]
    }
  ]
}
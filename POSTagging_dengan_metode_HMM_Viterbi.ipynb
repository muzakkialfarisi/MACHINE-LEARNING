{
  "nbformat": 4,
  "nbformat_minor": 0,
  "metadata": {
    "colab": {
      "name": "POSTagging dengan metode HMM-Viterbi.ipynb",
      "provenance": [],
      "collapsed_sections": [],
      "include_colab_link": true
    },
    "kernelspec": {
      "display_name": "Python 3",
      "language": "python",
      "name": "python3"
    },
    "language_info": {
      "codemirror_mode": {
        "name": "ipython",
        "version": 3
      },
      "file_extension": ".py",
      "mimetype": "text/x-python",
      "name": "python",
      "nbconvert_exporter": "python",
      "pygments_lexer": "ipython3",
      "version": "3.8.3"
    }
  },
  "cells": [
    {
      "cell_type": "markdown",
      "metadata": {
        "id": "view-in-github",
        "colab_type": "text"
      },
      "source": [
        "<a href=\"https://colab.research.google.com/github/muzakkialfarisi/MACHINE-LEARNING/blob/master/POSTagging_dengan_metode_HMM_Viterbi.ipynb\" target=\"_parent\"><img src=\"https://colab.research.google.com/assets/colab-badge.svg\" alt=\"Open In Colab\"/></a>"
      ]
    },
    {
      "cell_type": "markdown",
      "metadata": {
        "id": "WTMWUms16rSy"
      },
      "source": [
        "POSTagging dengan metode HMM-Viterbi. \n",
        "\n",
        "Contoh yang digunakan pada tutorial ini sesuai dengan contoh yang diberikan pada slide materi POSTagging. Asumsi yang digunakan adalah tabel emission dan transition probability sudah diketahui"
      ]
    },
    {
      "cell_type": "markdown",
      "metadata": {
        "id": "6gTYmjZ_FerZ"
      },
      "source": [
        "Inisialisasi tagset"
      ]
    },
    {
      "cell_type": "code",
      "metadata": {
        "id": "CIQ8LcR7FhKW",
        "colab": {
          "base_uri": "https://localhost:8080/",
          "height": 34
        },
        "outputId": "d8ed99a8-19a6-425f-aa9c-0e157b99b0c0"
      },
      "source": [
        "tags = {0:'<start>',1:'N',2:'V'}\n",
        "print(tags)\n",
        "\n"
      ],
      "execution_count": null,
      "outputs": [
        {
          "output_type": "stream",
          "text": [
            "{0: '<start>', 1: 'N', 2: 'V'}\n"
          ],
          "name": "stdout"
        }
      ]
    },
    {
      "cell_type": "markdown",
      "metadata": {
        "id": "EWUv97eM6zvp"
      },
      "source": [
        "Inisialisasi vocab"
      ]
    },
    {
      "cell_type": "code",
      "metadata": {
        "id": "klmcuw64610M"
      },
      "source": [
        "vocabs = {0:'deal',1:'fail',2:'talks'}"
      ],
      "execution_count": null,
      "outputs": []
    },
    {
      "cell_type": "markdown",
      "metadata": {
        "id": "Rp_uMHRS6rS4"
      },
      "source": [
        "Inisialisasi emission probability"
      ]
    },
    {
      "cell_type": "code",
      "metadata": {
        "id": "Us_efW_B6rS5"
      },
      "source": [
        "emission_prob = {}\n",
        "\n",
        "emission_prob[('N','deal')] = 0.2\n",
        "emission_prob[('N','fail')] = 0.05\n",
        "emission_prob[('N','talks')] = 0.2\n",
        "\n",
        "emission_prob[('V','deal')] = 0.3\n",
        "emission_prob[('V','fail')] = 0.3\n",
        "emission_prob[('V','talks')] = 0.3"
      ],
      "execution_count": null,
      "outputs": []
    },
    {
      "cell_type": "markdown",
      "metadata": {
        "id": "qfMrUygED21R"
      },
      "source": [
        "Inisialisasi transition probability"
      ]
    },
    {
      "cell_type": "code",
      "metadata": {
        "id": "JI0DPDkZD5Tn"
      },
      "source": [
        "transition_prob = {}\n",
        "\n",
        "transition_prob[('<start>','N')] = 0.8\n",
        "transition_prob[('<start>','V')] = 0.2\n",
        "\n",
        "transition_prob[('N','N')] = 0.4\n",
        "transition_prob[('N','V')] = 0.6\n",
        "\n",
        "transition_prob[('V','N')] = 0.8\n",
        "transition_prob[('V','V')] = 0.2"
      ],
      "execution_count": null,
      "outputs": []
    },
    {
      "cell_type": "markdown",
      "metadata": {
        "id": "XyvwLnY0EeG4"
      },
      "source": [
        "Fungsi Viterbi"
      ]
    },
    {
      "cell_type": "code",
      "metadata": {
        "id": "9uOnqykuEfnu"
      },
      "source": [
        "def viterbi(trans_prob, emission_prob, tokens):\n",
        "    # cek apakah semua token ada di vocab/emission probability\n",
        "    oov_status = 0\n",
        "    counter_check = 0\n",
        "    stop = False\n",
        "    while (counter_check < len(tokens)) and (not stop):\n",
        "        if tokens[counter_check] not in vocabs.values():\n",
        "            stop = True\n",
        "            oov_status = 1\n",
        "        else:\n",
        "            counter_check += 1\n",
        "    \n",
        "    if oov_status == 1:\n",
        "        # kalimat uji mengandung unknown word/OOV, tanpa smoothing tidak bisa diproses\n",
        "        print('kalimat uji mengandung unknown word')\n",
        "        return None, None\n",
        "    else:\n",
        "        # create a path probability matrix viterbi[N,T]\n",
        "        # N: banyaknya state\n",
        "        # T: jumlah token\n",
        "\n",
        "        T, N = len(tokens)+1, len(tags) # token ditambah satu untuk start\n",
        "        new_tokens = ['<s>'] + tokens\n",
        "        print('T=',T,',N=',N)\n",
        "        print('token:',new_tokens)\n",
        "        viterbi_mat = [[0 for x in range(T)] for y in range(N)] \n",
        "        print('matriks viterbi setelah di-create:',viterbi_mat)\n",
        "        print('baris adalah tag/state dan kolom adalah token\\n')\n",
        "        # create backpointers matrix\n",
        "        backpointers = [[0 for x in range(T)] for y in range(N)] \n",
        "\n",
        "        # initial probability distribution over states (phi)\n",
        "        # transition probability dengan previous state adalah <start>\n",
        "        phi = {}\n",
        "        for i in range (1,len(tags)):\n",
        "            phi[tags[i]] = transition_prob[('<start>',tags[i])]\n",
        "                    \n",
        "        # initialization\n",
        "        # urutan index state sesuai dengan index di dictionary tags{}\n",
        "        # inisialisasi dimulai dari state ke-1, state ke-0 sudah pasti <start>\n",
        "        viterbi_mat[0][0] = 1.0 # untuk token <s>, tag = <start>\n",
        "        for s in range(1,N):\n",
        "            viterbi_mat[s][1] = phi[tags[s]] * emission_prob[(tags[s],new_tokens[1])]\n",
        "            backpointers[s][1] = 0\n",
        "\n",
        "        print('viterbi mat setelah inisialisasi, proses token pertama ',new_tokens[1],':')\n",
        "        print(viterbi_mat)\n",
        "        print('\\n')\n",
        "\n",
        "        # recursion step\n",
        "        for t in range(2,T):\n",
        "            print('token ke ',t,':',new_tokens[t])\n",
        "            for s in range(1,N):\n",
        "                # get max viterbi from previous transition\n",
        "                max_prev_transition = 0.0\n",
        "                max_state = 0\n",
        "                print('menghitung nilai viterbi untuk state:',tags[s])\n",
        "                for i in range(1,N):                \n",
        "                    #selain transisi dari tag <start>, range mulai dari indeks 1\n",
        "                    temp_transition = viterbi_mat[i][t-1] * transition_prob[(tags[i],tags[s])]\n",
        "                    print('t-1 = ',t-1)   \n",
        "                    print('current calculation ',tags[i],'i:',i,'=',viterbi_mat[i][t-1],'*',transition_prob[(tags[i],tags[s])],'=',temp_transition)           \n",
        "                    if temp_transition > max_prev_transition:\n",
        "                        max_prev_transition = temp_transition\n",
        "                        max_state = i\n",
        "                viterbi_mat[s][t] = max_prev_transition * emission_prob[(tags[s],new_tokens[t])]\n",
        "                backpointers[s][t] = max_state\n",
        "            print('viterbi mat setelah proses token: ',new_tokens[t])\n",
        "            print(viterbi_mat)\n",
        "            print('\\n')\n",
        "\n",
        "    \n",
        "\n",
        "        # terminasi\n",
        "        # get max probability in last column\n",
        "        max_last_prob = 0.0\n",
        "        best_last_tag = ''\n",
        "        idx_best_last_tag = 0\n",
        "        for i in range (1,N):\n",
        "            if viterbi_mat[i][T-1] > max_last_prob:\n",
        "                max_last_prob = viterbi_mat[i][T-1]\n",
        "                best_last_tag = tags[i]\n",
        "                idx_best_last_tag = i\n",
        "        print('last token = ',new_tokens[T-1],',tag = ',best_last_tag,',max_last_prob =',max_last_prob)\n",
        "\n",
        "        best_path = []\n",
        "        best_path.append(idx_best_last_tag)\n",
        "        for i in range(T-1,1,-1):\n",
        "            best_prev_tag = backpointers[idx_best_last_tag][i]\n",
        "            print('best_prev_tag=',best_prev_tag)\n",
        "            best_path.append(best_prev_tag)\n",
        "        # reverse the order\n",
        "        best_path = best_path[::-1]\n",
        "    \n",
        "        return viterbi_mat, best_path"
      ],
      "execution_count": null,
      "outputs": []
    },
    {
      "cell_type": "markdown",
      "metadata": {
        "id": "wo2RYd5Y5cyj"
      },
      "source": [
        "Jalankan fungsi Viterbi untuk sebuah contoh kalimat 'deal talks fail'"
      ]
    },
    {
      "cell_type": "code",
      "metadata": {
        "id": "kMxYozcY3-Ay",
        "colab": {
          "base_uri": "https://localhost:8080/",
          "height": 731
        },
        "outputId": "19f5d006-26c0-4d85-e1cf-113b52382f53"
      },
      "source": [
        "viterbi_mat, best_path =  viterbi(transition_prob,emission_prob,['deal','talks','fail'])"
      ],
      "execution_count": null,
      "outputs": [
        {
          "output_type": "stream",
          "text": [
            "T= 4 ,N= 3\n",
            "token: ['<s>', 'deal', 'talks', 'fail']\n",
            "matriks viterbi setelah di-create: [[0, 0, 0, 0], [0, 0, 0, 0], [0, 0, 0, 0]]\n",
            "baris adalah tag/state dan kolom adalah token\n",
            "\n",
            "viterbi mat setelah inisialisasi, proses token pertama  deal :\n",
            "[[1.0, 0, 0, 0], [0, 0.16000000000000003, 0, 0], [0, 0.06, 0, 0]]\n",
            "\n",
            "\n",
            "token ke  2 : talks\n",
            "menghitung nilai viterbi untuk state: N\n",
            "t-1 =  1\n",
            "current calculation  N i: 1 = 0.16000000000000003 * 0.4 = 0.06400000000000002\n",
            "t-1 =  1\n",
            "current calculation  V i: 2 = 0.06 * 0.8 = 0.048\n",
            "menghitung nilai viterbi untuk state: V\n",
            "t-1 =  1\n",
            "current calculation  N i: 1 = 0.16000000000000003 * 0.6 = 0.09600000000000002\n",
            "t-1 =  1\n",
            "current calculation  V i: 2 = 0.06 * 0.2 = 0.012\n",
            "viterbi mat setelah proses token:  talks\n",
            "[[1.0, 0, 0, 0], [0, 0.16000000000000003, 0.012800000000000004, 0], [0, 0.06, 0.028800000000000003, 0]]\n",
            "\n",
            "\n",
            "token ke  3 : fail\n",
            "menghitung nilai viterbi untuk state: N\n",
            "t-1 =  2\n",
            "current calculation  N i: 1 = 0.012800000000000004 * 0.4 = 0.005120000000000002\n",
            "t-1 =  2\n",
            "current calculation  V i: 2 = 0.028800000000000003 * 0.8 = 0.023040000000000005\n",
            "menghitung nilai viterbi untuk state: V\n",
            "t-1 =  2\n",
            "current calculation  N i: 1 = 0.012800000000000004 * 0.6 = 0.007680000000000002\n",
            "t-1 =  2\n",
            "current calculation  V i: 2 = 0.028800000000000003 * 0.2 = 0.005760000000000001\n",
            "viterbi mat setelah proses token:  fail\n",
            "[[1.0, 0, 0, 0], [0, 0.16000000000000003, 0.012800000000000004, 0.0011520000000000002], [0, 0.06, 0.028800000000000003, 0.0023040000000000005]]\n",
            "\n",
            "\n",
            "last token =  fail ,tag =  V ,max_last_prob = 0.0023040000000000005\n",
            "best_prev_tag= 1\n",
            "best_prev_tag= 1\n"
          ],
          "name": "stdout"
        }
      ]
    },
    {
      "cell_type": "markdown",
      "metadata": {
        "id": "UoyZL-u95krl"
      },
      "source": [
        "Tes print viterbi matrix yang terbentuk"
      ]
    },
    {
      "cell_type": "code",
      "metadata": {
        "id": "nKZSkaH84GjX",
        "colab": {
          "base_uri": "https://localhost:8080/",
          "height": 136
        },
        "outputId": "78d1cdb7-eda8-4258-b3e3-7280d0b38b6f"
      },
      "source": [
        "# tes print viterbi matrix\n",
        "print('test print viterbi matrix final')\n",
        "rows, columns = len(viterbi_mat), len(viterbi_mat[0])\n",
        "for row_index in range(0,rows):\n",
        "    print('row index =',row_index)\n",
        "    print(viterbi_mat[row_index])\n"
      ],
      "execution_count": null,
      "outputs": [
        {
          "output_type": "stream",
          "text": [
            "test print viterbi matrix final\n",
            "row index = 0\n",
            "[1.0, 0, 0, 0]\n",
            "row index = 1\n",
            "[0, 0.16000000000000003, 0.012800000000000004, 0.0011520000000000002]\n",
            "row index = 2\n",
            "[0, 0.06, 0.028800000000000003, 0.0023040000000000005]\n"
          ],
          "name": "stdout"
        }
      ]
    },
    {
      "cell_type": "markdown",
      "metadata": {
        "id": "qi0yZAto5oRn"
      },
      "source": [
        "Tes print best POSTag yang diperoleh"
      ]
    },
    {
      "cell_type": "code",
      "metadata": {
        "id": "AYdTTJZt4PhQ",
        "colab": {
          "base_uri": "https://localhost:8080/",
          "height": 34
        },
        "outputId": "1d901969-1af6-4bb4-c385-1ad828122705"
      },
      "source": [
        "str_tag = ''\n",
        "for tag in best_path:\n",
        "    str_tag += tags[tag]+' '\n",
        "print('POSTag untuk kalimat deal talks fail:',str_tag)"
      ],
      "execution_count": null,
      "outputs": [
        {
          "output_type": "stream",
          "text": [
            "POSTag untuk kalimat deal talks fail: N N V \n"
          ],
          "name": "stdout"
        }
      ]
    },
    {
      "cell_type": "markdown",
      "metadata": {
        "id": "46tSD4Fv7NBU"
      },
      "source": [
        "Tes Tagging dengan kalimat mengandung OOV"
      ]
    },
    {
      "cell_type": "code",
      "metadata": {
        "id": "-B8YAt8I7QdA",
        "colab": {
          "base_uri": "https://localhost:8080/",
          "height": 34
        },
        "outputId": "681f4f38-9712-4c28-e2ed-8ca65012d2e4"
      },
      "source": [
        "viterbi_mat, best_path =  viterbi(transition_prob,emission_prob,['deal','talks','fail','again'])"
      ],
      "execution_count": null,
      "outputs": [
        {
          "output_type": "stream",
          "text": [
            "kalimat uji mengandung unknown word\n"
          ],
          "name": "stdout"
        }
      ]
    }
  ]
}
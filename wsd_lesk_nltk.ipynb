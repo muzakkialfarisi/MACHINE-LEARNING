{
  "nbformat": 4,
  "nbformat_minor": 0,
  "metadata": {
    "colab": {
      "name": "wsd_lesk_nltk.ipynb",
      "provenance": [],
      "include_colab_link": true
    },
    "kernelspec": {
      "name": "python3",
      "display_name": "Python 3"
    }
  },
  "cells": [
    {
      "cell_type": "markdown",
      "metadata": {
        "id": "view-in-github",
        "colab_type": "text"
      },
      "source": [
        "<a href=\"https://colab.research.google.com/github/muzakkialfarisi/MACHINE-LEARNING/blob/master/wsd_lesk_nltk.ipynb\" target=\"_parent\"><img src=\"https://colab.research.google.com/assets/colab-badge.svg\" alt=\"Open In Colab\"/></a>"
      ]
    },
    {
      "cell_type": "markdown",
      "metadata": {
        "id": "JSSwRPjNJ3A2"
      },
      "source": [
        "Tutorial Pekan Ke-9, Word Sense Disambiguation.\n",
        "\n",
        "Metode WSD berbasis thesaurus (WordNet), dengan metode Lesk.\n",
        "\n",
        "Sumber: http://www.nltk.org/howto/wsd.html"
      ]
    },
    {
      "cell_type": "code",
      "metadata": {
        "id": "b_lPxeVcH_tW",
        "colab": {
          "base_uri": "https://localhost:8080/"
        },
        "outputId": "931efbf2-fc56-4a1c-aa0b-1ae2c7814acb"
      },
      "source": [
        "import nltk\n",
        "nltk.download('wordnet')"
      ],
      "execution_count": null,
      "outputs": [
        {
          "output_type": "stream",
          "text": [
            "[nltk_data] Downloading package wordnet to /root/nltk_data...\n",
            "[nltk_data]   Unzipping corpora/wordnet.zip.\n"
          ],
          "name": "stdout"
        },
        {
          "output_type": "execute_result",
          "data": {
            "text/plain": [
              "True"
            ]
          },
          "metadata": {
            "tags": []
          },
          "execution_count": 1
        }
      ]
    },
    {
      "cell_type": "code",
      "metadata": {
        "id": "i3JP4rnkHpzG"
      },
      "source": [
        "from nltk.wsd import lesk"
      ],
      "execution_count": null,
      "outputs": []
    },
    {
      "cell_type": "code",
      "metadata": {
        "id": "0nONfmqKHzWk"
      },
      "source": [
        "sent_1 = ['I', 'went', 'to', 'the', 'bank', 'to', 'deposit', 'money', '.']"
      ],
      "execution_count": null,
      "outputs": []
    },
    {
      "cell_type": "code",
      "metadata": {
        "id": "G6TN3AkjH4ix",
        "colab": {
          "base_uri": "https://localhost:8080/"
        },
        "outputId": "e8ae0e71-0b95-4965-b636-94ea24eecda3"
      },
      "source": [
        "print(lesk(sent_1, 'bank', 'n'))"
      ],
      "execution_count": null,
      "outputs": [
        {
          "output_type": "stream",
          "text": [
            "Synset('savings_bank.n.02')\n"
          ],
          "name": "stdout"
        }
      ]
    },
    {
      "cell_type": "code",
      "metadata": {
        "id": "R_SfG37xIKPQ"
      },
      "source": [
        "sent_2 = ['I', 'sat', 'on', 'the', 'river', 'bank', '.']"
      ],
      "execution_count": null,
      "outputs": []
    },
    {
      "cell_type": "code",
      "metadata": {
        "id": "eLwBw7oPIS3O",
        "colab": {
          "base_uri": "https://localhost:8080/"
        },
        "outputId": "3578ef58-b08b-4f6a-a62a-9881e152424a"
      },
      "source": [
        "print(lesk(sent_2, 'bank', 'n'))"
      ],
      "execution_count": null,
      "outputs": [
        {
          "output_type": "stream",
          "text": [
            "Synset('savings_bank.n.02')\n"
          ],
          "name": "stdout"
        }
      ]
    },
    {
      "cell_type": "markdown",
      "metadata": {
        "id": "dbpeT9-6JFQ7"
      },
      "source": [
        "Apakah hasil wsd untuk kalimat sent_2 akurat?\n",
        "\n",
        "Mari kita cek definisi synset bank di WordNet NLTK\n"
      ]
    },
    {
      "cell_type": "code",
      "metadata": {
        "id": "ts16jM15JTiA",
        "colab": {
          "base_uri": "https://localhost:8080/"
        },
        "outputId": "29715411-7792-4a2f-a7ec-103f92be45b8"
      },
      "source": [
        "from nltk.corpus import wordnet as wn\n",
        "for ss in wn.synsets('bank'):\n",
        "     print(ss, ss.definition())"
      ],
      "execution_count": null,
      "outputs": [
        {
          "output_type": "stream",
          "text": [
            "Synset('bank.n.01') sloping land (especially the slope beside a body of water)\n",
            "Synset('depository_financial_institution.n.01') a financial institution that accepts deposits and channels the money into lending activities\n",
            "Synset('bank.n.03') a long ridge or pile\n",
            "Synset('bank.n.04') an arrangement of similar objects in a row or in tiers\n",
            "Synset('bank.n.05') a supply or stock held in reserve for future use (especially in emergencies)\n",
            "Synset('bank.n.06') the funds held by a gambling house or the dealer in some gambling games\n",
            "Synset('bank.n.07') a slope in the turn of a road or track; the outside is higher than the inside in order to reduce the effects of centrifugal force\n",
            "Synset('savings_bank.n.02') a container (usually with a slot in the top) for keeping money at home\n",
            "Synset('bank.n.09') a building in which the business of banking transacted\n",
            "Synset('bank.n.10') a flight maneuver; aircraft tips laterally about its longitudinal axis (especially in turning)\n",
            "Synset('bank.v.01') tip laterally\n",
            "Synset('bank.v.02') enclose with a bank\n",
            "Synset('bank.v.03') do business with a bank or keep an account at a bank\n",
            "Synset('bank.v.04') act as the banker in a game or in gambling\n",
            "Synset('bank.v.05') be in the banking business\n",
            "Synset('deposit.v.02') put into a bank account\n",
            "Synset('bank.v.07') cover with ashes so to control the rate of burning\n",
            "Synset('trust.v.01') have confidence or faith in\n"
          ],
          "name": "stdout"
        }
      ]
    },
    {
      "cell_type": "markdown",
      "metadata": {
        "id": "wpXBUWZ7Jd0j"
      },
      "source": [
        "Sense yang paling tepat untuk kata bank pada kalimat sent_2 seharusnya adalah 'bank.n.01'. Namun, dilihat dari definisinya, tidak ada irisan kata antara konteks (kata-kata yang ada di sekitar kata bank) dengan definisi bank pada sense 'bank.n.01'."
      ]
    }
  ]
}